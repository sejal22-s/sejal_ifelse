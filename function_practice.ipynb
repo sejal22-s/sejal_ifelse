{
 "cells": [
  {
   "cell_type": "code",
   "execution_count": 2,
   "id": "55510d1e-89e5-468b-8f32-0e4081da7f1e",
   "metadata": {},
   "outputs": [
    {
     "name": "stdout",
     "output_type": "stream",
     "text": [
      "finding the area\n"
     ]
    },
    {
     "name": "stdin",
     "output_type": "stream",
     "text": [
      "enter the number 20\n"
     ]
    }
   ],
   "source": [
    "#pass nothing return nothing\n",
    "print(\"finding the area\")\n",
    "r=int(input(\"enter the number\"))\n",
    "def circle():\n",
    "    c=3.13*r*r\n",
    "    print(c)\n",
    "    "
   ]
  },
  {
   "cell_type": "code",
   "execution_count": 3,
   "id": "d29aa6d5-23e6-4a65-bee8-fe6ade7e890a",
   "metadata": {},
   "outputs": [
    {
     "name": "stdout",
     "output_type": "stream",
     "text": [
      "1252.0\n"
     ]
    }
   ],
   "source": [
    "circle()"
   ]
  },
  {
   "cell_type": "code",
   "execution_count": 9,
   "id": "bc50f639-e355-4542-b4aa-f92f0beb6ce5",
   "metadata": {},
   "outputs": [
    {
     "name": "stdout",
     "output_type": "stream",
     "text": [
      "area of circle\n"
     ]
    }
   ],
   "source": [
    "#pass nothing return something\n",
    "print(\"area of circle\")\n",
    "def circle():\n",
    "    r=int(input(\"enter the number\"))\n",
    "    c=3.14*r*r\n",
    "    print(c)\n",
    "    return c"
   ]
  },
  {
   "cell_type": "code",
   "execution_count": 12,
   "id": "4e6b6e08-5f66-455a-a1fd-c660f308e2f8",
   "metadata": {},
   "outputs": [
    {
     "name": "stdin",
     "output_type": "stream",
     "text": [
      "enter the number 20\n"
     ]
    },
    {
     "name": "stdout",
     "output_type": "stream",
     "text": [
      "1256.0\n",
      "1256.0\n"
     ]
    }
   ],
   "source": [
    "result=circle()\n",
    "print(result)"
   ]
  },
  {
   "cell_type": "code",
   "execution_count": 13,
   "id": "cdf523a4-357e-4ebc-8b93-83aa53d674eb",
   "metadata": {},
   "outputs": [
    {
     "name": "stdout",
     "output_type": "stream",
     "text": [
      "area of circle\n"
     ]
    }
   ],
   "source": [
    "#pass something return nothing\n",
    "print(\"area of circle\")\n",
    "def circle(r):\n",
    "    c=3.14*r*r\n",
    "    print(c)"
   ]
  },
  {
   "cell_type": "code",
   "execution_count": 14,
   "id": "5088e495-ef9f-430d-b197-e8ba6dfe9d49",
   "metadata": {},
   "outputs": [
    {
     "name": "stdin",
     "output_type": "stream",
     "text": [
      "enter the number 20\n"
     ]
    },
    {
     "name": "stdout",
     "output_type": "stream",
     "text": [
      "1256.0\n"
     ]
    }
   ],
   "source": [
    "d=int(input(\"enter the number\"))\n",
    "circle(d)"
   ]
  },
  {
   "cell_type": "code",
   "execution_count": 15,
   "id": "78d8bcc2-c9d8-43e4-a3ca-1f24640c78bf",
   "metadata": {},
   "outputs": [
    {
     "name": "stdout",
     "output_type": "stream",
     "text": [
      "area of circle\n"
     ]
    }
   ],
   "source": [
    "#pass something return something\n",
    "print(\"area of circle\")\n",
    "def circle(r):\n",
    "    c=3.14*r*r\n",
    "    print(c)\n",
    "    return c"
   ]
  },
  {
   "cell_type": "code",
   "execution_count": 16,
   "id": "e40f8399-6784-447e-ac4e-4b36fc9590b7",
   "metadata": {},
   "outputs": [
    {
     "name": "stdin",
     "output_type": "stream",
     "text": [
      "enter the number 20\n"
     ]
    },
    {
     "name": "stdout",
     "output_type": "stream",
     "text": [
      "1256.0\n",
      "1256.0\n"
     ]
    }
   ],
   "source": [
    "d=int(input(\"enter the number\"))\n",
    "result=circle(d)\n",
    "print(result)"
   ]
  },
  {
   "cell_type": "code",
   "execution_count": 17,
   "id": "8dcf6196-8ab8-4ed4-8df1-e2285b8512b7",
   "metadata": {},
   "outputs": [
    {
     "name": "stdout",
     "output_type": "stream",
     "text": [
      "find the power of any given number\n"
     ]
    }
   ],
   "source": [
    "#pass something return nothing\n",
    "print(\"find the power of any given number\")\n",
    "def pow(a,b):\n",
    "    c=a**b\n",
    "    print(c)"
   ]
  },
  {
   "cell_type": "code",
   "execution_count": 18,
   "id": "e3b878ee-ca77-4032-9d20-1817ad98a8d6",
   "metadata": {},
   "outputs": [
    {
     "name": "stdin",
     "output_type": "stream",
     "text": [
      "enter the number 2\n",
      "enter the number 2\n"
     ]
    },
    {
     "name": "stdout",
     "output_type": "stream",
     "text": [
      "4\n"
     ]
    }
   ],
   "source": [
    "n1=int(input(\"enter the number\"))\n",
    "n2=int(input(\"enter the number\"))\n",
    "pow(n1,n2)"
   ]
  },
  {
   "cell_type": "code",
   "execution_count": 23,
   "id": "76ee4c11-b485-46aa-824e-7ebe733c99b3",
   "metadata": {},
   "outputs": [
    {
     "name": "stdout",
     "output_type": "stream",
     "text": [
      "find the power of any given number\n"
     ]
    }
   ],
   "source": [
    "#pass nothing return something\n",
    "print(\"find the power of any given number\")\n",
    "def pow():\n",
    "    a=int(input(\"enter the number\"))\n",
    "    b=int(input(\"enter the number\"))\n",
    "    c=a**b\n",
    "    return c"
   ]
  },
  {
   "cell_type": "code",
   "execution_count": 24,
   "id": "ea80602b-eb3e-4a30-a362-856959bc0852",
   "metadata": {},
   "outputs": [
    {
     "name": "stdin",
     "output_type": "stream",
     "text": [
      "enter the number 2\n",
      "enter the number 3\n"
     ]
    },
    {
     "name": "stdout",
     "output_type": "stream",
     "text": [
      "8\n"
     ]
    }
   ],
   "source": [
    "\n",
    "result=pow()\n",
    "print(result)"
   ]
  },
  {
   "cell_type": "code",
   "execution_count": 25,
   "id": "cf7443bb-18ac-4476-b7ec-3fcbd57cd861",
   "metadata": {},
   "outputs": [
    {
     "name": "stdout",
     "output_type": "stream",
     "text": [
      "find the power of any given number\n"
     ]
    }
   ],
   "source": [
    "#pass something return something\n",
    "print(\"find the power of any given number\")\n",
    "def pow(a,b):\n",
    "    c=a**b\n",
    "    return c"
   ]
  },
  {
   "cell_type": "code",
   "execution_count": 26,
   "id": "1a6afa16-0f8e-4715-a119-1bb59a6ea469",
   "metadata": {},
   "outputs": [
    {
     "name": "stdin",
     "output_type": "stream",
     "text": [
      "enter the number 2\n",
      "enter the number 3\n"
     ]
    },
    {
     "name": "stdout",
     "output_type": "stream",
     "text": [
      "8\n"
     ]
    }
   ],
   "source": [
    "n1=int(input(\"enter the number\"))\n",
    "n2=int(input(\"enter the number\"))\n",
    "result=pow(n1,n2)\n",
    "print(result)"
   ]
  },
  {
   "cell_type": "code",
   "execution_count": 30,
   "id": "8e26fec0-f39c-4538-8db1-aa4535c6f5ba",
   "metadata": {},
   "outputs": [
    {
     "name": "stdout",
     "output_type": "stream",
     "text": [
      "find the quotient\n"
     ]
    }
   ],
   "source": [
    "#pass nothing return something\n",
    "print(\"find the quotient\")\n",
    "def qou():\n",
    "    a=int(input(\"enter the number\"))\n",
    "    b=int(input(\"enter the number\"))\n",
    "    c=a//b\n",
    "    print(c)\n",
    "    return c\n",
    "    "
   ]
  },
  {
   "cell_type": "code",
   "execution_count": 31,
   "id": "ef467daf-95ba-47f3-897c-b79898cc9f59",
   "metadata": {},
   "outputs": [
    {
     "name": "stdin",
     "output_type": "stream",
     "text": [
      "enter the number 30\n",
      "enter the number 3\n"
     ]
    },
    {
     "name": "stdout",
     "output_type": "stream",
     "text": [
      "10\n",
      "10\n"
     ]
    }
   ],
   "source": [
    "result=qou()\n",
    "print(result)"
   ]
  },
  {
   "cell_type": "code",
   "execution_count": 32,
   "id": "a768d3f8-5c88-4b41-8bdb-a118aaf18773",
   "metadata": {},
   "outputs": [
    {
     "name": "stdout",
     "output_type": "stream",
     "text": [
      "find the quotient\n"
     ]
    }
   ],
   "source": [
    "#pass something return nothing\n",
    "print(\"find the quotient\")\n",
    "def qou(a,b):\n",
    "    c=a//b\n",
    "    print(c)"
   ]
  },
  {
   "cell_type": "code",
   "execution_count": 34,
   "id": "93c8a72a-8ee0-46e8-accb-c1b85b1b14e6",
   "metadata": {},
   "outputs": [
    {
     "name": "stdin",
     "output_type": "stream",
     "text": [
      "enter the number 30\n",
      "enter the number 3\n"
     ]
    },
    {
     "name": "stdout",
     "output_type": "stream",
     "text": [
      "10\n"
     ]
    }
   ],
   "source": [
    "n1=int(input(\"enter the number\"))\n",
    "n2=int(input(\"enter the number\"))\n",
    "qou(n1,n2)"
   ]
  },
  {
   "cell_type": "code",
   "execution_count": 35,
   "id": "aca9e304-7588-4c31-a66c-94fcb0590a6a",
   "metadata": {},
   "outputs": [
    {
     "name": "stdout",
     "output_type": "stream",
     "text": [
      "find mod of number\n"
     ]
    }
   ],
   "source": [
    "#pass something and return nothing\n",
    "print(\"find mod of number\")\n",
    "def mod(a,b):\n",
    "    c=a%b\n",
    "    print(c)\n",
    "    "
   ]
  },
  {
   "cell_type": "code",
   "execution_count": 36,
   "id": "dc789660-8448-4fef-8cab-f37af3cf3eec",
   "metadata": {},
   "outputs": [
    {
     "name": "stdin",
     "output_type": "stream",
     "text": [
      "enter the number 30\n",
      "enter the number 2\n"
     ]
    },
    {
     "name": "stdout",
     "output_type": "stream",
     "text": [
      "0\n"
     ]
    }
   ],
   "source": [
    "n1=int(input(\"enter the number\"))\n",
    "n2=int(input(\"enter the number\"))\n",
    "mod(n1,n2)"
   ]
  },
  {
   "cell_type": "code",
   "execution_count": null,
   "id": "6d90ebae-ffe4-4665-8f34-295ca95fee84",
   "metadata": {},
   "outputs": [],
   "source": []
  }
 ],
 "metadata": {
  "kernelspec": {
   "display_name": "Python 3 (ipykernel)",
   "language": "python",
   "name": "python3"
  },
  "language_info": {
   "codemirror_mode": {
    "name": "ipython",
    "version": 3
   },
   "file_extension": ".py",
   "mimetype": "text/x-python",
   "name": "python",
   "nbconvert_exporter": "python",
   "pygments_lexer": "ipython3",
   "version": "3.11.7"
  }
 },
 "nbformat": 4,
 "nbformat_minor": 5
}
