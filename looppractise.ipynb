{
 "cells": [
  {
   "cell_type": "code",
   "execution_count": 4,
   "id": "24fcb877-18c3-44f6-ae32-5b966f8c2e21",
   "metadata": {},
   "outputs": [
    {
     "name": "stdin",
     "output_type": "stream",
     "text": [
      "enter the number 2\n",
      "enter the number 3\n"
     ]
    },
    {
     "name": "stdout",
     "output_type": "stream",
     "text": [
      "b is bigger 3\n"
     ]
    }
   ],
   "source": [
    "#WAP if a number is greater from other number\n",
    "\n",
    "a=int(input(\"enter the number\"))\n",
    "b=int(input(\"enter the number\"))\n",
    "if(a>b):\n",
    "    print(\"a is bigger\",a)\n",
    "else:\n",
    "    print(\"b is bigger\",b) "
   ]
  },
  {
   "cell_type": "code",
   "execution_count": 11,
   "id": "b8c75e06-dcaf-4211-9de6-051ca1130607",
   "metadata": {},
   "outputs": [
    {
     "name": "stdin",
     "output_type": "stream",
     "text": [
      "enter the number 11122111\n"
     ]
    },
    {
     "name": "stdout",
     "output_type": "stream",
     "text": [
      "the number is palimdrome\n"
     ]
    }
   ],
   "source": [
    "#WAP if the number is palindrome or not\n",
    "\n",
    "a=input(\"enter the number\") \n",
    "if a == a[::-1]:\n",
    "    print(\"the number is palimdrome\")\n",
    "else:\n",
    "    print(\"the number is not palimdrome\")\n",
    "    \n"
   ]
  },
  {
   "cell_type": "code",
   "execution_count": 19,
   "id": "93b821d9-24ab-424b-a3ad-4f88821975e1",
   "metadata": {},
   "outputs": [
    {
     "name": "stdin",
     "output_type": "stream",
     "text": [
      "enter the list 1 2 3 3 4 5\n"
     ]
    },
    {
     "name": "stdout",
     "output_type": "stream",
     "text": [
      "original list: ['1', '2', '3', '3', '4', '5']\n",
      "list with duplicate removed: ['1', '2', '3', '4', '5']\n"
     ]
    }
   ],
   "source": [
    "#WAP to remove all the duplicate number\n",
    "num_list=input(\"enter the list\").split()\n",
    "new_list=[]\n",
    "for num in num_list:\n",
    "    if num not in new_list:\n",
    "        new_list.append(num)\n",
    "print(\"original list:\",num_list)\n",
    "print(\"list with duplicate removed:\",new_list)"
   ]
  },
  {
   "cell_type": "code",
   "execution_count": 30,
   "id": "06f2de20-5ef2-42a0-9e03-bc3e160c87b7",
   "metadata": {},
   "outputs": [
    {
     "name": "stdin",
     "output_type": "stream",
     "text": [
      "enter the list  1 2 99 3 6\n"
     ]
    },
    {
     "name": "stdout",
     "output_type": "stream",
     "text": [
      "the largest number in the list and that is divisible by 3 99\n"
     ]
    }
   ],
   "source": [
    "\n",
    "#WAP to take the input from the user and check if the number is divisible by 3 and should be greater than oyher list in number\n",
    "a=input(\"enter the list \").split()\n",
    "max_num=-1\n",
    "for num in a:\n",
    "    if int(num)%3==0 and int(num)>max_num:\n",
    "       max_num=int(num)\n",
    "    \n",
    "if max_num==-1:\n",
    "    print(\"their is no number in the list and is not divisible by 3\")\n",
    "else:\n",
    "    print(\"the largest number in the list and that is divisible by 3\",max_num)"
   ]
  },
  {
   "cell_type": "code",
   "execution_count": 59,
   "id": "f0ca829f-90c5-47b3-a987-8fa0aaec8e00",
   "metadata": {},
   "outputs": [
    {
     "name": "stdin",
     "output_type": "stream",
     "text": [
      "enter the list  1 2 4 6\n"
     ]
    },
    {
     "name": "stdout",
     "output_type": "stream",
     "text": [
      "the adddition of even number is: 12\n"
     ]
    }
   ],
   "source": [
    "#WAP if the number is even then print the sum of even number\n",
    "a=input(\"enter the list \").split()\n",
    "sum=0\n",
    "for num in a:\n",
    "    if int(num)%2==0:\n",
    "        sum=sum+int(num)\n",
    "print(\"the adddition of even number is:\",sum)\n",
    " "
   ]
  },
  {
   "cell_type": "code",
   "execution_count": 66,
   "id": "c8fcf7c8-2f7b-4250-ab10-2f8b94b10479",
   "metadata": {},
   "outputs": [
    {
     "name": "stdin",
     "output_type": "stream",
     "text": [
      "enter the list  500 300 200 5000\n"
     ]
    },
    {
     "name": "stdout",
     "output_type": "stream",
     "text": [
      "5000\n"
     ]
    }
   ],
   "source": [
    "#WAP to find the largest number from the list which is user defin\n",
    "a=input(\"enter the list \").split()\n",
    "for num in a:\n",
    "    if int(num)<=500:\n",
    "        continue\n",
    "    elif int(num)<150:\n",
    "        break\n",
    "    elif int(num)%2==0:\n",
    "        print(num)\n"
   ]
  },
  {
   "cell_type": "code",
   "execution_count": null,
   "id": "3f693d59-cd49-438f-96ff-0ffccf9ce60b",
   "metadata": {},
   "outputs": [],
   "source": []
  }
 ],
 "metadata": {
  "kernelspec": {
   "display_name": "Python 3 (ipykernel)",
   "language": "python",
   "name": "python3"
  },
  "language_info": {
   "codemirror_mode": {
    "name": "ipython",
    "version": 3
   },
   "file_extension": ".py",
   "mimetype": "text/x-python",
   "name": "python",
   "nbconvert_exporter": "python",
   "pygments_lexer": "ipython3",
   "version": "3.11.7"
  }
 },
 "nbformat": 4,
 "nbformat_minor": 5
}
