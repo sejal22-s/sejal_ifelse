{
 "cells": [
  {
   "cell_type": "code",
   "execution_count": 9,
   "id": "970c657b-16ea-4384-b38b-f88306fdb131",
   "metadata": {},
   "outputs": [
    {
     "name": "stdin",
     "output_type": "stream",
     "text": [
      "Enter the number 18\n"
     ]
    },
    {
     "name": "stdout",
     "output_type": "stream",
     "text": [
      "Binary number of 18 is 10010\n"
     ]
    }
   ],
   "source": [
    "#convert decimal to binary\n",
    "num = int(input(\"Enter the number\"))\n",
    "bin = 0\n",
    "p = 1\n",
    "n = num\n",
    "while n>0:\n",
    "    rem = int(n%2)\n",
    "    bin = bin + rem *p\n",
    "    p = p*10\n",
    "    n = n/2\n",
    "print(\"Binary number of\",num,\"is\",bin)"
   ]
  },
  {
   "cell_type": "code",
   "execution_count": 14,
   "id": "7c5f51e9-2999-4465-86fa-b39f037bd528",
   "metadata": {},
   "outputs": [
    {
     "name": "stdin",
     "output_type": "stream",
     "text": [
      "Enter the 10 number 2\n",
      "Enter the 10 number 3\n",
      "Enter the 10 number 4\n",
      "Enter the 10 number 5\n",
      "Enter the 10 number 6\n",
      "Enter the 10 number 7\n",
      "Enter the 10 number 8\n",
      "Enter the 10 number 9\n",
      "Enter the 10 number 4\n",
      "Enter the 10 number 3\n"
     ]
    },
    {
     "name": "stdout",
     "output_type": "stream",
     "text": [
      "Average is : 4.5\n"
     ]
    }
   ],
   "source": [
    "#WAP to accept 10 numbers from the user and display its average\n",
    "b = 0\n",
    "a = 0\n",
    "while (a<10):\n",
    "    num = int(input(\"Enter the 10 number\"))\n",
    "    b = b + a\n",
    "    a = a+1\n",
    "print(\"Average is :\",b/10)"
   ]
  },
  {
   "cell_type": "code",
   "execution_count": 16,
   "id": "67d9ceb1-cdfe-4785-8591-1a23328017ed",
   "metadata": {},
   "outputs": [
    {
     "name": "stdin",
     "output_type": "stream",
     "text": [
      "Enter the 10 numbers: 1\n",
      "Enter the 10 numbers: 2\n",
      "Enter the 10 numbers: 546\n",
      "Enter the 10 numbers: 465\n",
      "Enter the 10 numbers: 41523\n",
      "Enter the 10 numbers: 456\n",
      "Enter the 10 numbers: 123\n",
      "Enter the 10 numbers: 456\n",
      "Enter the 10 numbers: 48\n",
      "Enter the 10 numbers: 789\n"
     ]
    },
    {
     "name": "stdout",
     "output_type": "stream",
     "text": [
      "Largest number is: 41523\n",
      "Smallest number is: 1\n"
     ]
    }
   ],
   "source": [
    "#WAP to accept 10 numbers from user and display the largest and smallest number\n",
    "L = []\n",
    "i = 0\n",
    "while(i<10):\n",
    "    num = int(input(\"Enter the 10 numbers:\"))\n",
    "    L.append(num)\n",
    "    i=i+1\n",
    "L.sort()\n",
    "print(\"Largest number is:\",L[-1])\n",
    "print(\"Smallest number is:\",L[0])"
   ]
  },
  {
   "cell_type": "code",
   "execution_count": 21,
   "id": "bd328740-c010-4ac5-8d16-6c8e9c24631a",
   "metadata": {},
   "outputs": [
    {
     "name": "stdin",
     "output_type": "stream",
     "text": [
      "Enter the 1st number: 1\n",
      "Enter the 2nd number: 20\n"
     ]
    },
    {
     "name": "stdout",
     "output_type": "stream",
     "text": [
      "Sum of even numbers is : 110\n",
      "Sum of odd numbers is : 100\n"
     ]
    }
   ],
   "source": [
    "#WAP to display sum of odd and even number present between the two number taken from user\n",
    "num1 = int(input(\"Enter the 1st number:\"))\n",
    "num2=int(input(\"Enter the 2nd number:\"))\n",
    "qe=0\n",
    "qo=0\n",
    "if(num1>num2):\n",
    "    while(num2<=num1):\n",
    "        if(num2%2==0):\n",
    "            qe=qe+num2\n",
    "            num2=num2+1\n",
    "        else:\n",
    "            qo=qo+num2\n",
    "            num2=num2+1\n",
    "else:\n",
    "    while(num1<=num2):\n",
    "        if(num1%2==0):\n",
    "            qe=qe+num1\n",
    "            num1=num1+1\n",
    "        else:\n",
    "            qo=qo+num1\n",
    "            num1=num1+1\n",
    "print(\"Sum of even numbers is :\",qe)\n",
    "print(\"Sum of odd numbers is :\",qo)"
   ]
  },
  {
   "cell_type": "code",
   "execution_count": null,
   "id": "e735ea85-d4fb-47f4-8a29-1e5fb854499f",
   "metadata": {},
   "outputs": [],
   "source": [
    "#WAP to display all the numbers which are divisible by 13 but not 3\n",
    "n=101\n",
    "while(n<500):\n",
    "    if n%13==0 and n %3!=0:\n",
    "        print(n)\n",
    "        n = n+1"
   ]
  },
  {
   "cell_type": "code",
   "execution_count": null,
   "id": "ed45e31e-efe0-4569-a7f5-0ee02b4a1cc8",
   "metadata": {},
   "outputs": [],
   "source": []
  }
 ],
 "metadata": {
  "kernelspec": {
   "display_name": "Python 3 (ipykernel)",
   "language": "python",
   "name": "python3"
  },
  "language_info": {
   "codemirror_mode": {
    "name": "ipython",
    "version": 3
   },
   "file_extension": ".py",
   "mimetype": "text/x-python",
   "name": "python",
   "nbconvert_exporter": "python",
   "pygments_lexer": "ipython3",
   "version": "3.11.7"
  }
 },
 "nbformat": 4,
 "nbformat_minor": 5
}
