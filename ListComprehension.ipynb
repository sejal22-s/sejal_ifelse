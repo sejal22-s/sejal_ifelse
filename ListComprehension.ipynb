{
 "cells": [
  {
   "cell_type": "markdown",
   "id": "771a01ff-20cc-45fd-aa2a-fb396b012863",
   "metadata": {},
   "source": [
    "# List Comprehension"
   ]
  },
  {
   "cell_type": "code",
   "execution_count": 2,
   "id": "f0352120-e0e8-4ced-a7fd-60c74fe33763",
   "metadata": {},
   "outputs": [
    {
     "name": "stdout",
     "output_type": "stream",
     "text": [
      "[24, 26, 28]\n"
     ]
    }
   ],
   "source": [
    "num=[12,13,14]\n",
    "double=[x*2 for x in num]\n",
    "print(double)"
   ]
  },
  {
   "cell_type": "code",
   "execution_count": 3,
   "id": "d8e4183b-87dd-4bfd-bec0-4d3998cedea0",
   "metadata": {},
   "outputs": [
    {
     "name": "stdout",
     "output_type": "stream",
     "text": [
      "[4, 9, 25, 36]\n"
     ]
    }
   ],
   "source": [
    "a=[2,3,5,6]\n",
    "sqr=[x**2 for x in a]\n",
    "print(sqr)"
   ]
  },
  {
   "cell_type": "code",
   "execution_count": 4,
   "id": "cfc29793-0124-4ef3-b15b-3e60dd267ef4",
   "metadata": {},
   "outputs": [
    {
     "name": "stdout",
     "output_type": "stream",
     "text": [
      "[7, 6, 5, 4]\n"
     ]
    }
   ],
   "source": [
    "num=[9,8,7,6]\n",
    "diff=[x-2 for x in num]\n",
    "print(diff)"
   ]
  },
  {
   "cell_type": "code",
   "execution_count": 6,
   "id": "d676ac6a-028f-4943-9fcc-082f87bdfbc9",
   "metadata": {},
   "outputs": [
    {
     "name": "stdout",
     "output_type": "stream",
     "text": [
      "[11, 10, 9, 8]\n"
     ]
    }
   ],
   "source": [
    "num=[9,8,7,6]\n",
    "add=[x+2 for x in num]\n",
    "print(add)"
   ]
  },
  {
   "cell_type": "code",
   "execution_count": 7,
   "id": "95c7bd97-b77d-4bdd-8aab-bbfb57c870c6",
   "metadata": {},
   "outputs": [
    {
     "name": "stdout",
     "output_type": "stream",
     "text": [
      "[4.5, 4.0, 3.5, 3.0]\n"
     ]
    }
   ],
   "source": [
    "num=[9,8,7,6]\n",
    "mode=[x/2 for x in num]\n",
    "print(mode)"
   ]
  },
  {
   "cell_type": "markdown",
   "id": "79e950ba-0600-40b9-8ef0-21583cad2018",
   "metadata": {},
   "source": [
    "# iteration with list comprehension"
   ]
  },
  {
   "cell_type": "code",
   "execution_count": 12,
   "id": "2d76a3c9-63fc-4c68-a2bf-eab4ac9c075b",
   "metadata": {},
   "outputs": [
    {
     "name": "stdout",
     "output_type": "stream",
     "text": [
      "['a', 'b', 'c']\n"
     ]
    }
   ],
   "source": [
    "List=[character  for character  in ['a','b','c']]\n",
    "print(List)"
   ]
  },
  {
   "cell_type": "code",
   "execution_count": 14,
   "id": "bdfbe7a1-bfd3-4911-8518-405d29570efa",
   "metadata": {},
   "outputs": [
    {
     "name": "stdout",
     "output_type": "stream",
     "text": [
      "[1, 2, 3]\n"
     ]
    }
   ],
   "source": [
    "List=[num for num in [1,2,3]]\n",
    "print(List)"
   ]
  },
  {
   "cell_type": "code",
   "execution_count": 17,
   "id": "64ac9923-d98a-4a12-bc26-4e310c29b7dd",
   "metadata": {},
   "outputs": [
    {
     "name": "stdout",
     "output_type": "stream",
     "text": [
      "[0, 2, 4, 6, 8, 10]\n"
     ]
    }
   ],
   "source": [
    "#printing even list using list comprehension \n",
    "list = [i for i in range(11) if i%2==0]\n",
    "print(list)"
   ]
  },
  {
   "cell_type": "code",
   "execution_count": 18,
   "id": "0bc327cb-8a5b-427c-9982-1f2bb4a75770",
   "metadata": {},
   "outputs": [
    {
     "name": "stdout",
     "output_type": "stream",
     "text": [
      "[1, 3, 5, 7, 9]\n"
     ]
    }
   ],
   "source": [
    "#printing odd list using list comprehension \n",
    "list = [i for i in range(11) if i%2!=0]\n",
    "print(list)"
   ]
  },
  {
   "cell_type": "code",
   "execution_count": 19,
   "id": "533bc6ec-dc47-4ae9-a9d5-6eaa21b7b910",
   "metadata": {},
   "outputs": [
    {
     "name": "stdout",
     "output_type": "stream",
     "text": [
      "[[0, 1, 2], [0, 1, 2]]\n"
     ]
    }
   ],
   "source": [
    "matrix=[[j for j in range(3)] for i in range(2)]\n",
    "print(matrix)"
   ]
  },
  {
   "cell_type": "markdown",
   "id": "9799eb72-5c73-435c-96bb-ff8c52d47c6f",
   "metadata": {},
   "source": [
    "# List Comprehensions vs for loop"
   ]
  },
  {
   "cell_type": "code",
   "execution_count": 20,
   "id": "ce59f798-0efd-4865-866a-4fb5faeeae07",
   "metadata": {},
   "outputs": [
    {
     "name": "stdout",
     "output_type": "stream",
     "text": [
      "['g', 'e', 'e', 'k', 's', ' ', 'f', 'o', 'r', ' ', 'g', 'e', 'e', 'k', 's']\n"
     ]
    }
   ],
   "source": [
    "list=[]\n",
    "for character in 'geeks for geeks':\n",
    "    list.append(character)\n",
    "print(list)"
   ]
  },
  {
   "cell_type": "code",
   "execution_count": 21,
   "id": "9975da25-d452-4e5b-9949-40e492acd461",
   "metadata": {},
   "outputs": [
    {
     "name": "stdout",
     "output_type": "stream",
     "text": [
      "['g', 'e', 'e', 'k', 's', ' ', 'f', 'o', 'r', ' ', 'g', 'e', 'e', 'k', 's']\n"
     ]
    }
   ],
   "source": [
    "#using list comprehensions\n",
    "list=[character for character in 'geeks for geeks' ]\n",
    "print(list)"
   ]
  },
  {
   "cell_type": "markdown",
   "id": "c5e58353-8d83-4e95-9a27-7da0c3607789",
   "metadata": {},
   "source": [
    "# nested list comprehensions"
   ]
  },
  {
   "cell_type": "code",
   "execution_count": 29,
   "id": "d183e289-8b4a-40f8-a586-5649935d564b",
   "metadata": {},
   "outputs": [
    {
     "name": "stdout",
     "output_type": "stream",
     "text": [
      "[[0, 1, 2, 3], [0, 1, 2, 3], [0, 1, 2, 3]]\n"
     ]
    }
   ],
   "source": [
    "#using for loop only\n",
    "matrix = []\n",
    "for i in range(3):\n",
    "    matrix.append([])\n",
    "    for j in range(4):\n",
    "        matrix[i].append(j)\n",
    "print(matrix)"
   ]
  },
  {
   "cell_type": "code",
   "execution_count": 31,
   "id": "c3e7e7a7-f499-4fc3-8367-e45990b92419",
   "metadata": {},
   "outputs": [
    {
     "name": "stdout",
     "output_type": "stream",
     "text": [
      "[[0, 1, 2], [0, 1, 2], [0, 1, 2], [0, 1, 2]]\n"
     ]
    }
   ],
   "source": [
    "#using loop comprehensions\n",
    "matrix = [[j for j in range(3)]for i in range(4)]\n",
    "print(matrix)"
   ]
  },
  {
   "cell_type": "markdown",
   "id": "887f236c-36e0-4e3a-8adf-90dd1059b6d5",
   "metadata": {},
   "source": [
    "# List comprehension and lambda"
   ]
  },
  {
   "cell_type": "code",
   "execution_count": 32,
   "id": "76e8ae43-9e3a-4b0b-9f8e-074248e3692f",
   "metadata": {},
   "outputs": [
    {
     "name": "stdout",
     "output_type": "stream",
     "text": [
      "[10, 20, 30, 40, 50, 60, 70, 80, 90, 100]\n"
     ]
    }
   ],
   "source": [
    "#using for loop only\n",
    "number =[]\n",
    "for i in range(1,11):\n",
    "    number.append(i*10)\n",
    "print(number)"
   ]
  },
  {
   "cell_type": "code",
   "execution_count": 33,
   "id": "0f656489-d670-4850-ab99-f297b8ffdd49",
   "metadata": {},
   "outputs": [
    {
     "name": "stdout",
     "output_type": "stream",
     "text": [
      "[10, 20, 30, 40, 50, 60, 70, 80, 90, 100]\n"
     ]
    }
   ],
   "source": [
    "#using loop comprehensions\n",
    "num=[i*10 for i in range(1,11)]\n",
    "print(num)"
   ]
  },
  {
   "cell_type": "markdown",
   "id": "e8ce8394-8d62-43aa-8dd9-3258e69f7824",
   "metadata": {},
   "source": [
    "# python List Comprehension using if-else"
   ]
  },
  {
   "cell_type": "code",
   "execution_count": 34,
   "id": "19e0a3d1-fb84-48ef-817a-544a44e1dcbe",
   "metadata": {},
   "outputs": [
    {
     "name": "stdout",
     "output_type": "stream",
     "text": [
      "['Even Number', 'Odd Number', 'Even Number', 'Odd Number', 'Even Number', 'Odd Number', 'Even Number', 'Odd Number']\n"
     ]
    }
   ],
   "source": [
    "list=[\"Even Number\"if i%2==0\n",
    "     else \"Odd Number\"for i in range(8)]\n",
    "print(list)\n"
   ]
  },
  {
   "cell_type": "code",
   "execution_count": 37,
   "id": "8effed88-e8e2-4f58-9826-88afa2159596",
   "metadata": {},
   "outputs": [
    {
     "name": "stdout",
     "output_type": "stream",
     "text": [
      "[0, 10, 20]\n"
     ]
    }
   ],
   "source": [
    "#nested if with list comprehensiom\n",
    "lis=[num for num in range(30)\n",
    "    if num%5==0 if num%10==0]\n",
    "print(lis)"
   ]
  },
  {
   "cell_type": "code",
   "execution_count": 41,
   "id": "c15a4411-f69c-42b0-aaed-5334b1b25974",
   "metadata": {},
   "outputs": [
    {
     "name": "stdout",
     "output_type": "stream",
     "text": [
      "[100, 81, 64, 49, 36, 25, 16, 9, 4, 1]\n"
     ]
    }
   ],
   "source": [
    "#display the square of numbers from 1 to 10 in reverse order\n",
    "list=[i*i for i in range(10,0,-1) ]\n",
    "print(list)"
   ]
  },
  {
   "cell_type": "code",
   "execution_count": 42,
   "id": "51fe284a-1d0a-4be8-a8a1-a8a708329477",
   "metadata": {},
   "outputs": [
    {
     "name": "stdout",
     "output_type": "stream",
     "text": [
      "[1, 4, 9, 16, 25, 36, 49, 64, 81, 100]\n"
     ]
    }
   ],
   "source": [
    "#display the square of numbers from 1 to 10 \n",
    "list=[i*i for i in range(1,11) ]\n",
    "print(list)"
   ]
  },
  {
   "cell_type": "code",
   "execution_count": 39,
   "id": "1c17c871-4df9-48be-b86b-84421d86f4ee",
   "metadata": {},
   "outputs": [
    {
     "name": "stdout",
     "output_type": "stream",
     "text": [
      "[[10, 40, 70], [20, 50, 80], [30, 60, 90]]\n"
     ]
    }
   ],
   "source": [
    "#Display the transpose of 2D matrix\n",
    "matrix2=[[10,20,30],\n",
    "        [40,50,60],\n",
    "        [70,80,90]]\n",
    "trans = [[i[j]for i in matrix2]for j in range(len(matrix2[0]))]\n",
    "print(trans)"
   ]
  },
  {
   "cell_type": "code",
   "execution_count": 44,
   "id": "afd10394-bcea-495f-aaa4-44934b9f9fff",
   "metadata": {},
   "outputs": [
    {
     "name": "stdout",
     "output_type": "stream",
     "text": [
      "['skeeg', 'rof', 'skeeg']\n"
     ]
    }
   ],
   "source": [
    "# Reverse each string in a tuple\n",
    "list=[string[::-1]for string in('geeks', 'for' ,'geeks')]\n",
    "print(list)"
   ]
  },
  {
   "cell_type": "code",
   "execution_count": 45,
   "id": "23bd7e09-d34c-4243-84ae-ba8085b29ce1",
   "metadata": {},
   "outputs": [
    {
     "name": "stdout",
     "output_type": "stream",
     "text": [
      "[('G', 25), ('S', 26), ('J', 27), ('A', 28)]\n"
     ]
    }
   ],
   "source": [
    "#Creating the list of tuples from two seperate lists\n",
    "name=['G','S','J','A']\n",
    "age=[25,26,27,28]\n",
    "person_tuple=[(name,age)for name,age in zip(name,age)]\n",
    "print(person_tuple)"
   ]
  },
  {
   "cell_type": "code",
   "execution_count": 46,
   "id": "fc4667d0-9c51-41a3-bd97-dde149a76e71",
   "metadata": {},
   "outputs": [
    {
     "name": "stdout",
     "output_type": "stream",
     "text": [
      "[1, 8, 27, 64, 125, 216, 343, 512, 729, 1000]\n"
     ]
    }
   ],
   "source": [
    "#cube of numbers excercise question using list comprehension\n",
    "number=[1,2,3,4,5,6,7,8,9,10]\n",
    "cube=[number**3 for number in number]\n",
    "print(cube)"
   ]
  },
  {
   "cell_type": "code",
   "execution_count": 47,
   "id": "9c3e00a2-a82a-4e05-84f6-3281bea265da",
   "metadata": {},
   "outputs": [
    {
     "name": "stdout",
     "output_type": "stream",
     "text": [
      "[5, 7]\n"
     ]
    }
   ],
   "source": [
    "#finding the word lenght exercise question using list comprehension\n",
    "word=['sejal','shripat']\n",
    "length=[len(word) for word in word]\n",
    "print(length)"
   ]
  },
  {
   "cell_type": "code",
   "execution_count": null,
   "id": "ebedd26e-820a-4838-8783-56d03162eaba",
   "metadata": {},
   "outputs": [],
   "source": []
  }
 ],
 "metadata": {
  "kernelspec": {
   "display_name": "Python 3 (ipykernel)",
   "language": "python",
   "name": "python3"
  },
  "language_info": {
   "codemirror_mode": {
    "name": "ipython",
    "version": 3
   },
   "file_extension": ".py",
   "mimetype": "text/x-python",
   "name": "python",
   "nbconvert_exporter": "python",
   "pygments_lexer": "ipython3",
   "version": "3.11.7"
  }
 },
 "nbformat": 4,
 "nbformat_minor": 5
}
