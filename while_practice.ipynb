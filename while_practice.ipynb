{
 "cells": [
  {
   "cell_type": "code",
   "execution_count": 1,
   "id": "2818a3a6-5a5a-47c2-a069-7ccef83a0878",
   "metadata": {},
   "outputs": [
    {
     "name": "stdout",
     "output_type": "stream",
     "text": [
      "210\n"
     ]
    }
   ],
   "source": [
    "#sum of 10 natural numbers\n",
    "num=20\n",
    "sum=0\n",
    "while(num>=1):\n",
    "    sum=sum+num\n",
    "    num=num-1\n",
    "print(sum)"
   ]
  },
  {
   "cell_type": "code",
   "execution_count": 2,
   "id": "94920f20-8f9c-4e11-a337-ef12dc793222",
   "metadata": {},
   "outputs": [
    {
     "name": "stdout",
     "output_type": "stream",
     "text": [
      "110\n"
     ]
    }
   ],
   "source": [
    "#WAP to print sum of first even numbers\n",
    "num=2\n",
    "sum=0\n",
    "while(num<=20):\n",
    "    sum=sum+num\n",
    "    num=num+2\n",
    "print(sum)"
   ]
  },
  {
   "cell_type": "code",
   "execution_count": 3,
   "id": "95809d83-72db-43cb-86a0-7b35739386d4",
   "metadata": {},
   "outputs": [
    {
     "name": "stdin",
     "output_type": "stream",
     "text": [
      "enter the number 30\n"
     ]
    },
    {
     "name": "stdout",
     "output_type": "stream",
     "text": [
      "240\n"
     ]
    }
   ],
   "source": [
    "#WAP to print sum of first even numbers making it user define\n",
    "num=int(input(\"enter the number\"))\n",
    "sum=0\n",
    "while(num>=1):\n",
    "    sum=sum+num\n",
    "    num=num-2\n",
    "print(sum)"
   ]
  },
  {
   "cell_type": "code",
   "execution_count": 4,
   "id": "366820db-19ce-45ff-970b-af0ce12d15f7",
   "metadata": {},
   "outputs": [
    {
     "name": "stdin",
     "output_type": "stream",
     "text": [
      "enter the number 20\n"
     ]
    },
    {
     "name": "stdout",
     "output_type": "stream",
     "text": [
      "20 X 0 = 0\n",
      "20 X 1 = 20\n",
      "20 X 2 = 40\n",
      "20 X 3 = 60\n",
      "20 X 4 = 80\n",
      "20 X 5 = 100\n",
      "20 X 6 = 120\n",
      "20 X 7 = 140\n",
      "20 X 8 = 160\n",
      "20 X 9 = 180\n",
      "20 X 10 = 200\n"
     ]
    }
   ],
   "source": [
    "#WAP to print table of a number entered from user \n",
    "num=int(input(\"enter the number\"))\n",
    "val=0\n",
    "while(val<=10):\n",
    "    print(num,\"X\",val,\"=\",num*val)\n",
    "    val=val +1 "
   ]
  },
  {
   "cell_type": "code",
   "execution_count": 5,
   "id": "19de69f3-eee8-4bf4-b4b0-fbc53fb78da1",
   "metadata": {},
   "outputs": [
    {
     "name": "stdout",
     "output_type": "stream",
     "text": [
      "2\n",
      "4\n",
      "6\n",
      "8\n",
      "10\n",
      "12\n",
      "14\n",
      "16\n",
      "18\n",
      "20\n"
     ]
    }
   ],
   "source": [
    "#WAP to print 1st 10 even number \n",
    "num=2\n",
    "while(num<=20):\n",
    "    print(num)\n",
    "    num=num+2"
   ]
  },
  {
   "cell_type": "code",
   "execution_count": 6,
   "id": "a1cec9ef-71cd-4222-8371-8973fc0b3976",
   "metadata": {},
   "outputs": [
    {
     "name": "stdout",
     "output_type": "stream",
     "text": [
      "1\n",
      "3\n",
      "5\n",
      "7\n",
      "9\n",
      "11\n",
      "13\n",
      "15\n",
      "17\n",
      "19\n"
     ]
    }
   ],
   "source": [
    "#WAP to print 1st 10 odd number \n",
    "num=1\n",
    "while(num<=20):\n",
    "    print(num)\n",
    "    num=num+2"
   ]
  },
  {
   "cell_type": "code",
   "execution_count": 7,
   "id": "cec61754-734e-41a4-86ca-1cbde4269529",
   "metadata": {},
   "outputs": [
    {
     "name": "stdout",
     "output_type": "stream",
     "text": [
      "1\n",
      "2\n",
      "3\n",
      "4\n",
      "5\n",
      "6\n",
      "7\n",
      "8\n",
      "9\n",
      "10\n",
      "11\n",
      "12\n",
      "13\n",
      "14\n",
      "15\n",
      "16\n",
      "17\n",
      "18\n",
      "19\n",
      "20\n"
     ]
    }
   ],
   "source": [
    "#WAP to print 1st 10 natural number \n",
    "num=1\n",
    "while(num<=20):\n",
    "    print(num)\n",
    "    num=num+1"
   ]
  },
  {
   "cell_type": "code",
   "execution_count": 8,
   "id": "95b177d2-479e-4299-abd6-cbd38887ad4c",
   "metadata": {},
   "outputs": [
    {
     "name": "stdout",
     "output_type": "stream",
     "text": [
      "0\n",
      "1\n",
      "2\n",
      "3\n",
      "4\n",
      "5\n",
      "6\n",
      "7\n",
      "8\n",
      "9\n",
      "10\n",
      "11\n",
      "12\n",
      "13\n",
      "14\n",
      "15\n",
      "16\n",
      "17\n",
      "18\n",
      "19\n",
      "20\n"
     ]
    }
   ],
   "source": [
    "#WAP to print 1st 10 whole number \n",
    "num=0\n",
    "while(num<=20):\n",
    "    print(num)\n",
    "    num=num+1"
   ]
  },
  {
   "cell_type": "code",
   "execution_count": 9,
   "id": "aa1bcb86-61be-4cda-9edf-ef3a36f62913",
   "metadata": {},
   "outputs": [
    {
     "name": "stdout",
     "output_type": "stream",
     "text": [
      "1 1\n",
      "2 4\n",
      "3 9\n",
      "4 16\n",
      "5 25\n",
      "6 36\n",
      "7 49\n",
      "8 64\n",
      "9 81\n",
      "10 100\n"
     ]
    }
   ],
   "source": [
    "#WAP to print !st 10 integers and their squares using while loop\n",
    "num=1\n",
    "while(num<=10):\n",
    "    print(num,num*num)\n",
    "    num=num+1"
   ]
  },
  {
   "cell_type": "code",
   "execution_count": 10,
   "id": "6180a4d8-2d52-43fa-9b77-e3100ccc28e9",
   "metadata": {},
   "outputs": [
    {
     "name": "stdout",
     "output_type": "stream",
     "text": [
      "10 20 30 40 50 60 70 80 90 100 110 120 130 140 150 160 170 180 190 200 210 220 230 240 250 260 270 280 290 300 "
     ]
    }
   ],
   "source": [
    "#WAP to print the series\n",
    "num=10\n",
    "while(num<=300):\n",
    "    print(num,end=\" \")\n",
    "    num=num+10"
   ]
  },
  {
   "cell_type": "code",
   "execution_count": 11,
   "id": "3cf08ace-d2ec-4e55-9095-ea68c719041f",
   "metadata": {},
   "outputs": [
    {
     "name": "stdout",
     "output_type": "stream",
     "text": [
      "105 98 91 84 77 70 63 56 49 42 35 28 21 14 7 "
     ]
    }
   ],
   "source": [
    "#WAP to print the series\n",
    "num=105\n",
    "while(num>=7):\n",
    "    print(num,end=\" \")\n",
    "    num=num-7"
   ]
  },
  {
   "cell_type": "code",
   "execution_count": 12,
   "id": "42825060-70f9-4014-a0d4-3c8fb96deb29",
   "metadata": {},
   "outputs": [
    {
     "name": "stdout",
     "output_type": "stream",
     "text": [
      "10 9 8 7 6 5 4 3 2 1 "
     ]
    }
   ],
   "source": [
    "#WAP to prin\n",
    "num=10\n",
    "while(num>=1):\n",
    "    print(num,end=\" \")\n",
    "    num=num-1"
   ]
  },
  {
   "cell_type": "code",
   "execution_count": null,
   "id": "f50e4733-bfbf-4f80-b28f-bf4d3cda051b",
   "metadata": {},
   "outputs": [],
   "source": []
  }
 ],
 "metadata": {
  "kernelspec": {
   "display_name": "Python 3 (ipykernel)",
   "language": "python",
   "name": "python3"
  },
  "language_info": {
   "codemirror_mode": {
    "name": "ipython",
    "version": 3
   },
   "file_extension": ".py",
   "mimetype": "text/x-python",
   "name": "python",
   "nbconvert_exporter": "python",
   "pygments_lexer": "ipython3",
   "version": "3.11.7"
  }
 },
 "nbformat": 4,
 "nbformat_minor": 5
}
