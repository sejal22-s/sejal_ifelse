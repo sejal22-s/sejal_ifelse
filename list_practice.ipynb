{
 "cells": [
  {
   "cell_type": "code",
   "execution_count": 1,
   "id": "22c22eab-cf4f-4e39-bd0b-580bfccaa2cb",
   "metadata": {},
   "outputs": [],
   "source": [
    "l1=[]"
   ]
  },
  {
   "cell_type": "code",
   "execution_count": 2,
   "id": "7c1eb299-2be9-4815-9040-3b5e0a700567",
   "metadata": {},
   "outputs": [
    {
     "data": {
      "text/plain": [
       "list"
      ]
     },
     "execution_count": 2,
     "metadata": {},
     "output_type": "execute_result"
    }
   ],
   "source": [
    "type(l1)"
   ]
  },
  {
   "cell_type": "code",
   "execution_count": 3,
   "id": "fddf0299-e3d9-4972-af35-31aed3738521",
   "metadata": {},
   "outputs": [],
   "source": [
    "l2=[1,2,3,4,5,6]"
   ]
  },
  {
   "cell_type": "code",
   "execution_count": 4,
   "id": "0dee3207-f6b1-4aaf-8f94-b281ccb3e3c0",
   "metadata": {},
   "outputs": [
    {
     "name": "stdout",
     "output_type": "stream",
     "text": [
      "<class 'list'>\n"
     ]
    }
   ],
   "source": [
    "print(type(l2))"
   ]
  },
  {
   "cell_type": "code",
   "execution_count": 5,
   "id": "1fb14da5-ccbf-4ca7-8b2f-267810749f2b",
   "metadata": {},
   "outputs": [],
   "source": [
    "l3=[\"sejal\",\"jayesh\",\"shreyash\",\"kavita\",\"raju\"]"
   ]
  },
  {
   "cell_type": "code",
   "execution_count": 6,
   "id": "dde8faf8-2a18-454d-ade9-9696d90b87c4",
   "metadata": {},
   "outputs": [],
   "source": [
    "l4=[\"dog\",2,3,3.5,\"cat\"]"
   ]
  },
  {
   "cell_type": "code",
   "execution_count": 7,
   "id": "08e8558e-2823-4ea8-be07-3641fe29df31",
   "metadata": {},
   "outputs": [],
   "source": [
    "l5=[1,2,3,4,5,[6,7,8]]"
   ]
  },
  {
   "cell_type": "code",
   "execution_count": 9,
   "id": "00fdd88d-dc9f-4e86-978c-693075ddcfbb",
   "metadata": {},
   "outputs": [
    {
     "data": {
      "text/plain": [
       "5"
      ]
     },
     "execution_count": 9,
     "metadata": {},
     "output_type": "execute_result"
    }
   ],
   "source": [
    "l5[4]"
   ]
  },
  {
   "cell_type": "code",
   "execution_count": 12,
   "id": "acef0989-f7de-4c03-9036-7d44a7a64c0e",
   "metadata": {},
   "outputs": [
    {
     "data": {
      "text/plain": [
       "[6, 7, 8]"
      ]
     },
     "execution_count": 12,
     "metadata": {},
     "output_type": "execute_result"
    }
   ],
   "source": [
    "l5[5]"
   ]
  },
  {
   "cell_type": "code",
   "execution_count": 13,
   "id": "a6b1140f-5a8e-4842-874a-8e4ba54e25ef",
   "metadata": {},
   "outputs": [
    {
     "data": {
      "text/plain": [
       "[2, 3, 4]"
      ]
     },
     "execution_count": 13,
     "metadata": {},
     "output_type": "execute_result"
    }
   ],
   "source": [
    "l5[1:4]"
   ]
  },
  {
   "cell_type": "code",
   "execution_count": 14,
   "id": "642cea7d-aeba-4b8e-be4c-1bdcf896bc42",
   "metadata": {},
   "outputs": [
    {
     "data": {
      "text/plain": [
       "6"
      ]
     },
     "execution_count": 14,
     "metadata": {},
     "output_type": "execute_result"
    }
   ],
   "source": [
    "len(l5)"
   ]
  },
  {
   "cell_type": "code",
   "execution_count": 15,
   "id": "65d95f25-ae26-4537-85ef-edb57d9d224a",
   "metadata": {},
   "outputs": [
    {
     "data": {
      "text/plain": [
       "5"
      ]
     },
     "execution_count": 15,
     "metadata": {},
     "output_type": "execute_result"
    }
   ],
   "source": [
    "len(l3)"
   ]
  },
  {
   "cell_type": "code",
   "execution_count": 16,
   "id": "4461057d-6fdc-4a19-8bea-b25b7cbddc0d",
   "metadata": {},
   "outputs": [
    {
     "data": {
      "text/plain": [
       "['sejal', 'shreyash']"
      ]
     },
     "execution_count": 16,
     "metadata": {},
     "output_type": "execute_result"
    }
   ],
   "source": [
    "l3[0:4:2]"
   ]
  },
  {
   "cell_type": "code",
   "execution_count": 17,
   "id": "d237f4d6-a6ed-4908-804d-09f5a9186c6b",
   "metadata": {},
   "outputs": [
    {
     "data": {
      "text/plain": [
       "'raju'"
      ]
     },
     "execution_count": 17,
     "metadata": {},
     "output_type": "execute_result"
    }
   ],
   "source": [
    "l3[4]"
   ]
  },
  {
   "cell_type": "code",
   "execution_count": 18,
   "id": "7ceb57b4-f026-4af3-8aea-a38ff9631451",
   "metadata": {},
   "outputs": [
    {
     "data": {
      "text/plain": [
       "['raju']"
      ]
     },
     "execution_count": 18,
     "metadata": {},
     "output_type": "execute_result"
    }
   ],
   "source": [
    "l3[4:5:1]"
   ]
  },
  {
   "cell_type": "code",
   "execution_count": 19,
   "id": "d1ff4a71-b5e9-448a-8fda-b08f4f4ed76b",
   "metadata": {},
   "outputs": [
    {
     "data": {
      "text/plain": [
       "['raju', 'kavita', 'shreyash', 'jayesh', 'sejal']"
      ]
     },
     "execution_count": 19,
     "metadata": {},
     "output_type": "execute_result"
    }
   ],
   "source": [
    "l3[::-1]"
   ]
  },
  {
   "cell_type": "code",
   "execution_count": 68,
   "id": "7b00f5ec-d3b4-4474-8887-10e0a66e93fd",
   "metadata": {},
   "outputs": [],
   "source": [
    "l3=[\"sejal\",\"jayesh\",\"shreyash\",\"kavita\",\"raju\"]"
   ]
  },
  {
   "cell_type": "code",
   "execution_count": 25,
   "id": "0be22a56-af03-4c15-8ca1-f981c5950deb",
   "metadata": {},
   "outputs": [
    {
     "data": {
      "text/plain": [
       "['shreyash', 'jayesh']"
      ]
     },
     "execution_count": 25,
     "metadata": {},
     "output_type": "execute_result"
    }
   ],
   "source": [
    "l3[2:0:-1]"
   ]
  },
  {
   "cell_type": "code",
   "execution_count": 27,
   "id": "a24ce335-7e7c-4085-a33b-c9a9d54e8b78",
   "metadata": {},
   "outputs": [],
   "source": [
    "l3.append(\"mamta\")"
   ]
  },
  {
   "cell_type": "code",
   "execution_count": 28,
   "id": "23319a1e-a587-4a3d-a7e2-a38da1bb1f7e",
   "metadata": {},
   "outputs": [
    {
     "data": {
      "text/plain": [
       "['sejal', 'jayesh', 'shreyash', 'kavita', 'raju', 'mamta']"
      ]
     },
     "execution_count": 28,
     "metadata": {},
     "output_type": "execute_result"
    }
   ],
   "source": [
    "l3"
   ]
  },
  {
   "cell_type": "code",
   "execution_count": 29,
   "id": "37023afd-6b40-433e-813c-bf18ec2dc29d",
   "metadata": {},
   "outputs": [],
   "source": [
    "l3.insert(2,\"manu\")"
   ]
  },
  {
   "cell_type": "code",
   "execution_count": 30,
   "id": "bc1f1c3b-0f12-4af3-9333-7455b8435950",
   "metadata": {},
   "outputs": [
    {
     "data": {
      "text/plain": [
       "['sejal', 'jayesh', 'manu', 'shreyash', 'kavita', 'raju', 'mamta']"
      ]
     },
     "execution_count": 30,
     "metadata": {},
     "output_type": "execute_result"
    }
   ],
   "source": [
    "l3"
   ]
  },
  {
   "cell_type": "code",
   "execution_count": 31,
   "id": "442d68c4-113f-4713-8dcd-f910a0221b05",
   "metadata": {},
   "outputs": [],
   "source": [
    "l3.extend([1,2,3])"
   ]
  },
  {
   "cell_type": "code",
   "execution_count": 32,
   "id": "aa8be772-2ab5-470e-802f-919ff971641b",
   "metadata": {},
   "outputs": [
    {
     "data": {
      "text/plain": [
       "['sejal', 'jayesh', 'manu', 'shreyash', 'kavita', 'raju', 'mamta', 1, 2, 3]"
      ]
     },
     "execution_count": 32,
     "metadata": {},
     "output_type": "execute_result"
    }
   ],
   "source": [
    "l3\n"
   ]
  },
  {
   "cell_type": "code",
   "execution_count": 33,
   "id": "0f37dcb2-647d-48a1-9831-4cb67e1ea004",
   "metadata": {},
   "outputs": [
    {
     "data": {
      "text/plain": [
       "3"
      ]
     },
     "execution_count": 33,
     "metadata": {},
     "output_type": "execute_result"
    }
   ],
   "source": [
    "l3.pop()"
   ]
  },
  {
   "cell_type": "code",
   "execution_count": 34,
   "id": "88ad247f-8b07-4157-a3af-55a83230860e",
   "metadata": {},
   "outputs": [
    {
     "data": {
      "text/plain": [
       "['sejal', 'jayesh', 'manu', 'shreyash', 'kavita', 'raju', 'mamta', 1, 2]"
      ]
     },
     "execution_count": 34,
     "metadata": {},
     "output_type": "execute_result"
    }
   ],
   "source": [
    "l3"
   ]
  },
  {
   "cell_type": "code",
   "execution_count": 35,
   "id": "639523db-f748-46e2-9ef3-7832af7eb8fa",
   "metadata": {},
   "outputs": [
    {
     "data": {
      "text/plain": [
       "'manu'"
      ]
     },
     "execution_count": 35,
     "metadata": {},
     "output_type": "execute_result"
    }
   ],
   "source": [
    "l3.pop(2) #using index"
   ]
  },
  {
   "cell_type": "code",
   "execution_count": 36,
   "id": "538e4516-e840-4de9-a0b2-989ffe5593fa",
   "metadata": {},
   "outputs": [
    {
     "data": {
      "text/plain": [
       "['sejal', 'jayesh', 'shreyash', 'kavita', 'raju', 'mamta', 1, 2]"
      ]
     },
     "execution_count": 36,
     "metadata": {},
     "output_type": "execute_result"
    }
   ],
   "source": [
    "l3"
   ]
  },
  {
   "cell_type": "code",
   "execution_count": null,
   "id": "7541b952-11a1-46b0-889d-d3e53dd6b20f",
   "metadata": {},
   "outputs": [],
   "source": [
    "l3.remove(\"mamta\") #using element"
   ]
  },
  {
   "cell_type": "code",
   "execution_count": 38,
   "id": "66260a72-1086-42fc-9899-5dedaf4c8263",
   "metadata": {},
   "outputs": [
    {
     "data": {
      "text/plain": [
       "['sejal', 'jayesh', 'shreyash', 'kavita', 'raju', 1, 2]"
      ]
     },
     "execution_count": 38,
     "metadata": {},
     "output_type": "execute_result"
    }
   ],
   "source": [
    "l3"
   ]
  },
  {
   "cell_type": "code",
   "execution_count": 41,
   "id": "26a6f53a-9cbb-443e-a7b0-5e33281fba1e",
   "metadata": {},
   "outputs": [],
   "source": [
    "l5=l3+l4"
   ]
  },
  {
   "cell_type": "code",
   "execution_count": 42,
   "id": "e7528447-29ff-4d08-a11d-6e50a56ef300",
   "metadata": {},
   "outputs": [
    {
     "data": {
      "text/plain": [
       "['sejal',\n",
       " 'jayesh',\n",
       " 'shreyash',\n",
       " 'kavita',\n",
       " 'raju',\n",
       " 1,\n",
       " 2,\n",
       " 'sejal',\n",
       " 'jayesh',\n",
       " 'shreyash',\n",
       " 'kavita',\n",
       " 'raju',\n",
       " 1,\n",
       " 2,\n",
       " 'dog',\n",
       " 2,\n",
       " 3,\n",
       " 3.5,\n",
       " 'cat']"
      ]
     },
     "execution_count": 42,
     "metadata": {},
     "output_type": "execute_result"
    }
   ],
   "source": [
    "l5"
   ]
  },
  {
   "cell_type": "code",
   "execution_count": 43,
   "id": "f33eff95-089a-4646-99eb-cdf73f299502",
   "metadata": {},
   "outputs": [],
   "source": [
    "l3.extend(l4)"
   ]
  },
  {
   "cell_type": "code",
   "execution_count": 44,
   "id": "efee23ee-8fb8-4592-a9a1-102fecac43d2",
   "metadata": {},
   "outputs": [
    {
     "data": {
      "text/plain": [
       "['sejal',\n",
       " 'jayesh',\n",
       " 'shreyash',\n",
       " 'kavita',\n",
       " 'raju',\n",
       " 1,\n",
       " 2,\n",
       " 'sejal',\n",
       " 'jayesh',\n",
       " 'shreyash',\n",
       " 'kavita',\n",
       " 'raju',\n",
       " 1,\n",
       " 2,\n",
       " 'dog',\n",
       " 2,\n",
       " 3,\n",
       " 3.5,\n",
       " 'cat']"
      ]
     },
     "execution_count": 44,
     "metadata": {},
     "output_type": "execute_result"
    }
   ],
   "source": [
    "l3"
   ]
  },
  {
   "cell_type": "code",
   "execution_count": 45,
   "id": "f06c1acc-f9bd-4d96-ae72-f6f4ad02aeb5",
   "metadata": {},
   "outputs": [],
   "source": [
    "l3=[\"sejal\",\"jayesh\",\"shreyash\",\"kavita\",\"raju\"]"
   ]
  },
  {
   "cell_type": "code",
   "execution_count": 46,
   "id": "87e75f20-3860-4206-9fb3-a34a3f1273c1",
   "metadata": {},
   "outputs": [
    {
     "data": {
      "text/plain": [
       "False"
      ]
     },
     "execution_count": 46,
     "metadata": {},
     "output_type": "execute_result"
    }
   ],
   "source": [
    "\"two\" in l3"
   ]
  },
  {
   "cell_type": "code",
   "execution_count": 47,
   "id": "aff97a2f-379f-42fe-9018-d5479541b702",
   "metadata": {},
   "outputs": [
    {
     "data": {
      "text/plain": [
       "True"
      ]
     },
     "execution_count": 47,
     "metadata": {},
     "output_type": "execute_result"
    }
   ],
   "source": [
    "\"sejal\" in l3"
   ]
  },
  {
   "cell_type": "code",
   "execution_count": 48,
   "id": "505019b7-37ea-46bd-9bfa-b04a633e3695",
   "metadata": {},
   "outputs": [
    {
     "data": {
      "text/plain": [
       "False"
      ]
     },
     "execution_count": 48,
     "metadata": {},
     "output_type": "execute_result"
    }
   ],
   "source": [
    "\"sejal\" not in l3"
   ]
  },
  {
   "cell_type": "code",
   "execution_count": 49,
   "id": "6fdd29b3-60d8-4543-9f7e-caa4336c2dca",
   "metadata": {},
   "outputs": [],
   "source": [
    "list1=[1,7,8,5,6,3,2,4,10]"
   ]
  },
  {
   "cell_type": "code",
   "execution_count": 52,
   "id": "ad25357a-1630-48ba-ba19-a07976540894",
   "metadata": {},
   "outputs": [],
   "source": [
    "list1.sort()"
   ]
  },
  {
   "cell_type": "code",
   "execution_count": 53,
   "id": "0a1f3054-120e-4960-bf56-a843e28135fa",
   "metadata": {},
   "outputs": [
    {
     "data": {
      "text/plain": [
       "[1, 2, 3, 4, 5, 6, 7, 8, 10]"
      ]
     },
     "execution_count": 53,
     "metadata": {},
     "output_type": "execute_result"
    }
   ],
   "source": [
    "list1"
   ]
  },
  {
   "cell_type": "code",
   "execution_count": 54,
   "id": "178e4c5a-a646-4579-a585-cf5296ec98ff",
   "metadata": {},
   "outputs": [],
   "source": [
    "list2=[1,7,8,5,6,3,'b',2,4,10,'a']"
   ]
  },
  {
   "cell_type": "code",
   "execution_count": 55,
   "id": "a840acf2-12af-43f6-9c84-309ef6cb815a",
   "metadata": {},
   "outputs": [
    {
     "ename": "TypeError",
     "evalue": "'<' not supported between instances of 'str' and 'int'",
     "output_type": "error",
     "traceback": [
      "\u001b[1;31m---------------------------------------------------------------------------\u001b[0m",
      "\u001b[1;31mTypeError\u001b[0m                                 Traceback (most recent call last)",
      "Cell \u001b[1;32mIn[55], line 1\u001b[0m\n\u001b[1;32m----> 1\u001b[0m list2\u001b[38;5;241m.\u001b[39msort()\n",
      "\u001b[1;31mTypeError\u001b[0m: '<' not supported between instances of 'str' and 'int'"
     ]
    }
   ],
   "source": [
    "list2.sort()"
   ]
  },
  {
   "cell_type": "code",
   "execution_count": 56,
   "id": "643b4182-0976-4b84-ae0d-97d766582ff6",
   "metadata": {},
   "outputs": [],
   "source": [
    "list4=[2.3,5.4,1.2,6.5,7.8,2.003]"
   ]
  },
  {
   "cell_type": "code",
   "execution_count": 58,
   "id": "348c9544-8da6-471f-abea-0f9f55e8aa9e",
   "metadata": {},
   "outputs": [],
   "source": [
    "list4.sort(reverse=True)"
   ]
  },
  {
   "cell_type": "code",
   "execution_count": 59,
   "id": "668b5b84-a0aa-4e0d-8025-dbb00662c7c4",
   "metadata": {},
   "outputs": [
    {
     "data": {
      "text/plain": [
       "[7.8, 6.5, 5.4, 2.3, 2.003, 1.2]"
      ]
     },
     "execution_count": 59,
     "metadata": {},
     "output_type": "execute_result"
    }
   ],
   "source": [
    "list4"
   ]
  },
  {
   "cell_type": "code",
   "execution_count": 60,
   "id": "2f6389ad-9df3-4b0b-88ad-c4fd1b95f884",
   "metadata": {},
   "outputs": [],
   "source": [
    "l1=[1,2,3,4,5]"
   ]
  },
  {
   "cell_type": "code",
   "execution_count": 61,
   "id": "fa422da1-2f03-4b11-a0e1-6c46b9ef7186",
   "metadata": {},
   "outputs": [],
   "source": [
    "l3=[0,2,3,4,5]"
   ]
  },
  {
   "cell_type": "code",
   "execution_count": 66,
   "id": "a9d261a9-62ca-4464-bae1-c61628663a7d",
   "metadata": {},
   "outputs": [
    {
     "data": {
      "text/plain": [
       "False"
      ]
     },
     "execution_count": 66,
     "metadata": {},
     "output_type": "execute_result"
    }
   ],
   "source": [
    "all(l3)"
   ]
  },
  {
   "cell_type": "code",
   "execution_count": 65,
   "id": "1bc65a5d-a70e-4b0e-8edd-e599ed38313c",
   "metadata": {},
   "outputs": [
    {
     "data": {
      "text/plain": [
       "True"
      ]
     },
     "execution_count": 65,
     "metadata": {},
     "output_type": "execute_result"
    }
   ],
   "source": [
    "any(l3)"
   ]
  },
  {
   "cell_type": "code",
   "execution_count": null,
   "id": "a8c0266a-b7e3-40c1-928e-6a0d0308b794",
   "metadata": {},
   "outputs": [],
   "source": []
  }
 ],
 "metadata": {
  "kernelspec": {
   "display_name": "Python 3 (ipykernel)",
   "language": "python",
   "name": "python3"
  },
  "language_info": {
   "codemirror_mode": {
    "name": "ipython",
    "version": 3
   },
   "file_extension": ".py",
   "mimetype": "text/x-python",
   "name": "python",
   "nbconvert_exporter": "python",
   "pygments_lexer": "ipython3",
   "version": "3.11.7"
  }
 },
 "nbformat": 4,
 "nbformat_minor": 5
}
