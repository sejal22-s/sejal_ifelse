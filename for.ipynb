{
 "cells": [
  {
   "cell_type": "code",
   "execution_count": 2,
   "id": "2e4afbf7-4116-42c8-b462-277c4841c1f6",
   "metadata": {},
   "outputs": [
    {
     "name": "stdout",
     "output_type": "stream",
     "text": [
      "1\n",
      "2\n",
      "3\n",
      "4\n",
      "5\n",
      "6\n",
      "7\n",
      "8\n",
      "9\n",
      "10\n"
     ]
    }
   ],
   "source": [
    "#Print the first 10 natural numbers using for loop\n",
    "for i in range(1,11):\n",
    "    print(i)"
   ]
  },
  {
   "cell_type": "code",
   "execution_count": 7,
   "id": "b5e66c08-b684-41e2-972e-f800faf9992e",
   "metadata": {},
   "outputs": [
    {
     "name": "stdout",
     "output_type": "stream",
     "text": [
      "0\n",
      "2\n",
      "4\n",
      "6\n",
      "8\n"
     ]
    }
   ],
   "source": [
    "#Print the first 10 even natural number\n",
    "n = 10\n",
    "for i in range(n):\n",
    "    if i%2==0: \n",
    "        print(i)"
   ]
  },
  {
   "cell_type": "code",
   "execution_count": 12,
   "id": "4e6518cf-1db0-40de-a74d-86d8c2f76a4c",
   "metadata": {},
   "outputs": [
    {
     "name": "stdout",
     "output_type": "stream",
     "text": [
      "1\n",
      "3\n",
      "6\n",
      "10\n",
      "15\n",
      "21\n",
      "28\n",
      "36\n",
      "45\n"
     ]
    }
   ],
   "source": [
    "#Print the sum of all numbers from 1 to given num\n",
    "num=10\n",
    "a=0\n",
    "for i in range(1,num):\n",
    "    a=a+i\n",
    "    print(a)\n",
    "    "
   ]
  },
  {
   "cell_type": "code",
   "execution_count": 19,
   "id": "2e6bb5de-bc2c-4e4b-bc4f-9a7aae9332ad",
   "metadata": {},
   "outputs": [
    {
     "name": "stdout",
     "output_type": "stream",
     "text": [
      "25\n"
     ]
    }
   ],
   "source": [
    "#print the sum of all the odd numbers within the given range\n",
    "num=10\n",
    "sum=0\n",
    "for i in range(1,num):\n",
    "    if(i%2!=0):\n",
    "        sum=sum+i\n",
    "print(sum)"
   ]
  },
  {
   "cell_type": "code",
   "execution_count": 23,
   "id": "0c28c98c-7dce-4316-850f-44990c2ae66c",
   "metadata": {},
   "outputs": [
    {
     "name": "stdout",
     "output_type": "stream",
     "text": [
      "5 x 1 = 5\n",
      "5 x 2 = 10\n",
      "5 x 3 = 15\n",
      "5 x 4 = 20\n",
      "5 x 5 = 25\n",
      "5 x 6 = 30\n",
      "5 x 7 = 35\n",
      "5 x 8 = 40\n",
      "5 x 9 = 45\n",
      "5 x 10 = 50\n"
     ]
    }
   ],
   "source": [
    "#Write the program to print a multiplication table of given number\n",
    "num=5\n",
    "mul=0\n",
    "for i in range(1,11,1):\n",
    "    print(num,\"x\",i,\"=\",num*i)"
   ]
  },
  {
   "cell_type": "code",
   "execution_count": 26,
   "id": "4567cac6-479d-4946-bf27-318156361ae6",
   "metadata": {},
   "outputs": [
    {
     "name": "stdout",
     "output_type": "stream",
     "text": [
      "1\n",
      "2\n",
      "4\n",
      "6\n",
      "88\n",
      "125\n"
     ]
    }
   ],
   "source": [
    "#Write the program to display numbers from list using loop\n",
    "list=[1,2,4,6,88,125]\n",
    "for i in list:\n",
    "    print(i)"
   ]
  },
  {
   "cell_type": "code",
   "execution_count": 32,
   "id": "72ed4056-c719-482e-948e-d7024dafa4aa",
   "metadata": {},
   "outputs": [
    {
     "name": "stdout",
     "output_type": "stream",
     "text": [
      "6\n"
     ]
    }
   ],
   "source": [
    "#WAP to count the total number of digits in a number\n",
    "num=129475\n",
    "count=0\n",
    "num=str(num)\n",
    "for i in num:\n",
    "    count=count+1\n",
    "print(count)\n",
    "    "
   ]
  },
  {
   "cell_type": "code",
   "execution_count": 35,
   "id": "9457d3f9-3777-4eed-9b23-d45ced687b00",
   "metadata": {},
   "outputs": [
    {
     "name": "stdout",
     "output_type": "stream",
     "text": [
      "string is palindrone\n"
     ]
    }
   ],
   "source": [
    "#WAP to check if the given string is a palindrome\n",
    "string=\"madam\"\n",
    "reverse=\"\"\n",
    "for i in string:\n",
    "    reverse=i+reverse\n",
    "if(string==reverse):\n",
    "    print(\"string is palindrone\")\n",
    "else:\n",
    "    print(\"string is not palindrone\")"
   ]
  },
  {
   "cell_type": "code",
   "execution_count": 38,
   "id": "72c2be02-4d8b-4b1a-8445-5dbd3cd0f097",
   "metadata": {},
   "outputs": [
    {
     "name": "stdin",
     "output_type": "stream",
     "text": [
      "enter the number 1234\n"
     ]
    },
    {
     "name": "stdout",
     "output_type": "stream",
     "text": [
      "4321\n"
     ]
    }
   ],
   "source": [
    "#WAP that accepts a word from the user and reverses it\n",
    "num=input(\"enter the number\")\n",
    "reverse=\"\"\n",
    "for i in num:\n",
    "    \n",
    "    reverse = i+reverse\n",
    "print(reverse)"
   ]
  },
  {
   "cell_type": "code",
   "execution_count": 47,
   "id": "8c10bc81-130c-4194-b25b-3fc2e69c9ae7",
   "metadata": {},
   "outputs": [
    {
     "name": "stdout",
     "output_type": "stream",
     "text": [
      "the num is armstrong\n"
     ]
    }
   ],
   "source": [
    "#WAP to check if a given number is an armstrong number\n",
    "num=153\n",
    "num=str(num)\n",
    "string_len=len(num)\n",
    "sum=0\n",
    "for i in num:\n",
    "    sum=sum+int(i)**string_len\n",
    "if(int(num)==sum):\n",
    "    print(\"the num is armstrong\")\n",
    "else:\n",
    "    print(\"the num is not armstrong\")\n",
    "    \n"
   ]
  },
  {
   "cell_type": "code",
   "execution_count": 50,
   "id": "dee43f52-7abe-4021-a569-7fb4440e6081",
   "metadata": {},
   "outputs": [
    {
     "name": "stdout",
     "output_type": "stream",
     "text": [
      "1 odd numbers\n",
      "2 even numbers\n",
      "3 odd numbers\n",
      "4 even numbers\n",
      "5 odd numbers\n",
      "6 even numbers\n",
      "7 odd numbers\n"
     ]
    }
   ],
   "source": [
    "#WAP to count the number of even and odd numbers from a series of number\n",
    "list=[1,2,3,4,5,6,7]\n",
    "count=0\n",
    "for i in list:\n",
    "    if(i%2==0):\n",
    "        print(i,\"even numbers\")\n",
    "    else:\n",
    "        print(i,\"odd numbers\")\n",
    "        \n",
    "        \n"
   ]
  },
  {
   "cell_type": "code",
   "execution_count": null,
   "id": "9a09d605-2762-4e8e-ad89-5df26a53b6bc",
   "metadata": {},
   "outputs": [],
   "source": [
    "#WAp to display all numbers within a range except the prime number\n"
   ]
  }
 ],
 "metadata": {
  "kernelspec": {
   "display_name": "Python 3 (ipykernel)",
   "language": "python",
   "name": "python3"
  },
  "language_info": {
   "codemirror_mode": {
    "name": "ipython",
    "version": 3
   },
   "file_extension": ".py",
   "mimetype": "text/x-python",
   "name": "python",
   "nbconvert_exporter": "python",
   "pygments_lexer": "ipython3",
   "version": "3.11.7"
  }
 },
 "nbformat": 4,
 "nbformat_minor": 5
}
