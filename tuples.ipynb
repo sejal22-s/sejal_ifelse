{
 "cells": [
  {
   "cell_type": "code",
   "execution_count": 1,
   "id": "6061d05f-8674-45f0-940a-afed681783f4",
   "metadata": {},
   "outputs": [],
   "source": [
    "tup1=()"
   ]
  },
  {
   "cell_type": "code",
   "execution_count": 2,
   "id": "0ad43686-f12e-4ea5-8729-3da1234f2ece",
   "metadata": {},
   "outputs": [
    {
     "data": {
      "text/plain": [
       "tuple"
      ]
     },
     "execution_count": 2,
     "metadata": {},
     "output_type": "execute_result"
    }
   ],
   "source": [
    "type(tup1)"
   ]
  },
  {
   "cell_type": "code",
   "execution_count": 3,
   "id": "bec520de-d429-49f6-a033-50ec0dfb4405",
   "metadata": {},
   "outputs": [],
   "source": [
    "tuple2=(1.2,3,4,5.6,7.7,8)"
   ]
  },
  {
   "cell_type": "code",
   "execution_count": 4,
   "id": "5cae3b4d-3c94-4a92-8850-938fb689cb71",
   "metadata": {},
   "outputs": [],
   "source": [
    "tuple3=('one','two','three','four')"
   ]
  },
  {
   "cell_type": "code",
   "execution_count": 5,
   "id": "5883734b-c8e5-48a9-ac78-4df4f9a521f7",
   "metadata": {},
   "outputs": [
    {
     "data": {
      "text/plain": [
       "4"
      ]
     },
     "execution_count": 5,
     "metadata": {},
     "output_type": "execute_result"
    }
   ],
   "source": [
    "len(tuple3)"
   ]
  },
  {
   "cell_type": "code",
   "execution_count": 6,
   "id": "f7ac4032-3f66-4b93-b618-c45f577044bd",
   "metadata": {},
   "outputs": [],
   "source": [
    "tuple4=('one',1,2,3,[4,5,6],(7,8,9),'two','three','four')"
   ]
  },
  {
   "cell_type": "code",
   "execution_count": 7,
   "id": "5bc433e3-fcb0-4cb0-9a38-9c1affea965d",
   "metadata": {},
   "outputs": [
    {
     "data": {
      "text/plain": [
       "5"
      ]
     },
     "execution_count": 7,
     "metadata": {},
     "output_type": "execute_result"
    }
   ],
   "source": [
    "tuple4[4][1]"
   ]
  },
  {
   "cell_type": "code",
   "execution_count": 9,
   "id": "2cbcff1f-2cf5-48ba-85f3-2f3528630f41",
   "metadata": {},
   "outputs": [
    {
     "data": {
      "text/plain": [
       "9"
      ]
     },
     "execution_count": 9,
     "metadata": {},
     "output_type": "execute_result"
    }
   ],
   "source": [
    "tuple4[5][2]"
   ]
  },
  {
   "cell_type": "code",
   "execution_count": 10,
   "id": "f65cb224-deb0-4492-bb61-3ce761ff92ed",
   "metadata": {},
   "outputs": [
    {
     "data": {
      "text/plain": [
       "'three'"
      ]
     },
     "execution_count": 10,
     "metadata": {},
     "output_type": "execute_result"
    }
   ],
   "source": [
    "tuple4[7]"
   ]
  },
  {
   "cell_type": "code",
   "execution_count": 11,
   "id": "6d5d6fe7-fbac-42e7-9742-bbee52eaf262",
   "metadata": {},
   "outputs": [
    {
     "data": {
      "text/plain": [
       "('four', 'three', 'two', (7, 8, 9), [4, 5, 6], 3, 2, 1, 'one')"
      ]
     },
     "execution_count": 11,
     "metadata": {},
     "output_type": "execute_result"
    }
   ],
   "source": [
    "tuple4[::-1]"
   ]
  },
  {
   "cell_type": "code",
   "execution_count": 12,
   "id": "07c733e8-f3a3-4c9c-ad1c-22467f5130e9",
   "metadata": {},
   "outputs": [
    {
     "data": {
      "text/plain": [
       "('one', 2, [4, 5, 6], 'two', 'four')"
      ]
     },
     "execution_count": 12,
     "metadata": {},
     "output_type": "execute_result"
    }
   ],
   "source": [
    "tuple4[0:9:2]"
   ]
  },
  {
   "cell_type": "code",
   "execution_count": 14,
   "id": "cc4fdefa-d82e-4f0c-ab01-b6768623091e",
   "metadata": {},
   "outputs": [
    {
     "data": {
      "text/plain": [
       "('four', 'three', 'two', (7, 8, 9), [4, 5, 6], 3, 2, 1)"
      ]
     },
     "execution_count": 14,
     "metadata": {},
     "output_type": "execute_result"
    }
   ],
   "source": [
    "tuple4[9:0:-1]"
   ]
  },
  {
   "cell_type": "code",
   "execution_count": 15,
   "id": "0b6ea876-3e08-47f0-93a1-819c27809db7",
   "metadata": {},
   "outputs": [],
   "source": [
    "tuple4=('one',1,2,3,[4,5,6],(7,8,9),'two','three','four','one','one')"
   ]
  },
  {
   "cell_type": "code",
   "execution_count": 16,
   "id": "e9580d31-e93b-4d32-bd3b-b061506927f7",
   "metadata": {},
   "outputs": [
    {
     "data": {
      "text/plain": [
       "3"
      ]
     },
     "execution_count": 16,
     "metadata": {},
     "output_type": "execute_result"
    }
   ],
   "source": [
    "tuple4.count('one')"
   ]
  },
  {
   "cell_type": "code",
   "execution_count": 17,
   "id": "e56efd85-b8df-465b-85aa-80d09aa0a71c",
   "metadata": {},
   "outputs": [
    {
     "data": {
      "text/plain": [
       "6"
      ]
     },
     "execution_count": 17,
     "metadata": {},
     "output_type": "execute_result"
    }
   ],
   "source": [
    "tuple4.index(\"two\")"
   ]
  },
  {
   "cell_type": "code",
   "execution_count": null,
   "id": "07d76ebe-8126-4333-8839-ff633be1e3ed",
   "metadata": {},
   "outputs": [],
   "source": []
  }
 ],
 "metadata": {
  "kernelspec": {
   "display_name": "Python 3 (ipykernel)",
   "language": "python",
   "name": "python3"
  },
  "language_info": {
   "codemirror_mode": {
    "name": "ipython",
    "version": 3
   },
   "file_extension": ".py",
   "mimetype": "text/x-python",
   "name": "python",
   "nbconvert_exporter": "python",
   "pygments_lexer": "ipython3",
   "version": "3.11.7"
  }
 },
 "nbformat": 4,
 "nbformat_minor": 5
}
