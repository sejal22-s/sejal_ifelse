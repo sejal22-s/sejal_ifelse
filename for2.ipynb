{
 "cells": [
  {
   "cell_type": "code",
   "execution_count": 1,
   "id": "2bd86317-dfff-4dfd-958c-85ddef34ceff",
   "metadata": {},
   "outputs": [
    {
     "name": "stdout",
     "output_type": "stream",
     "text": [
      "fizzbuzz\n",
      "1\n",
      "2\n",
      "3\n",
      "fizz\n",
      "buzz\n",
      "6\n",
      "7\n",
      "fizz\n",
      "9\n",
      "buzz\n",
      "11\n",
      "fizz\n",
      "13\n",
      "14\n",
      "buzz\n",
      "fizz\n",
      "17\n",
      "18\n",
      "19\n",
      "fizzbuzz\n",
      "21\n",
      "22\n",
      "23\n",
      "fizz\n",
      "buzz\n"
     ]
    }
   ],
   "source": [
    "#Write a phython program that iterates the integers  from 1 to 25\n",
    "given_number=25\n",
    "for i in range(given_number+1):\n",
    "    if(i%5==0 and i%4==0):\n",
    "        print(\"fizzbuzz\")\n",
    "        continue\n",
    "    if(i%5==0 and i%4!=0):\n",
    "        print(\"buzz\")\n",
    "        continue\n",
    "    if(i%5!=0 and i%4==0):\n",
    "        print(\"fizz\")\n",
    "    else:\n",
    "        print(i)"
   ]
  },
  {
   "cell_type": "code",
   "execution_count": 2,
   "id": "85a1054c-e80b-4925-bf25-d84e6e3aec11",
   "metadata": {},
   "outputs": [
    {
     "name": "stdin",
     "output_type": "stream",
     "text": [
      "Enter the letter or digits sejal\n"
     ]
    },
    {
     "name": "stdout",
     "output_type": "stream",
     "text": [
      "The input string  sejal has 5 letter and 0 digits\n"
     ]
    }
   ],
   "source": [
    "##WAP to accept a string and calculates the number of digits and letters\n",
    "user_ip=input(\"Enter the letter or digits\")\n",
    "digits=0\n",
    "letter=0\n",
    "for i in user_ip:\n",
    "    if i.isdigit():\n",
    "        digits=digits+1\n",
    "    elif i.isalpha():\n",
    "        letter=letter+1\n",
    "print(\"The input string \",user_ip,\"has\",letter,\"letter and\",digits,\"digits\")"
   ]
  },
  {
   "cell_type": "code",
   "execution_count": 8,
   "id": "906b9e5d-686a-40bc-81d7-80b3405b2474",
   "metadata": {},
   "outputs": [
    {
     "name": "stdin",
     "output_type": "stream",
     "text": [
      "Enter the pass that you want to set Sejal22@\n"
     ]
    },
    {
     "name": "stdout",
     "output_type": "stream",
     "text": [
      "Valid Password\n"
     ]
    }
   ],
   "source": [
    "# Python program to check the validity of password input by users.\n",
    "input_pass=input(\"Enter the pass that you want to set\")\n",
    "has_valid_len=False\n",
    "has_upper_case=False\n",
    "has_lower_case=False\n",
    "has_digit=False\n",
    "has_special_char=False\n",
    "\n",
    "if(len(input_pass)>=8 and len(input_pass)<=14):\n",
    "    has_valid_len=True\n",
    "    for i in input_pass:\n",
    "        if i.isupper():\n",
    "            has_upper_case=True\n",
    "        if i.islower():\n",
    "            has_lower_case=True\n",
    "        if i.isdigit():\n",
    "            has_digit=True\n",
    "        if (i=='@'or i=='#' or i=='$' or i=='%' or i=='^' or i=='&' or i=='*' or i=='!'):\n",
    "            has_special_char=True\n",
    "if(has_valid_len==True and has_upper_case==True and has_lower_case==True and has_digit==True and has_special_char==True):\n",
    "    print(\"Valid Password\")\n",
    "else:\n",
    "    print(\"Invalid Password\")\n",
    "            \n",
    "        "
   ]
  },
  {
   "cell_type": "code",
   "execution_count": 13,
   "id": "b6989fb3-c8e3-43be-a878-f2971ac69f46",
   "metadata": {},
   "outputs": [
    {
     "name": "stdout",
     "output_type": "stream",
     "text": [
      "January month has 30 days\n",
      "March month has 30 days\n",
      "September month has 30 days\n",
      "November month has 30 days\n",
      "August month has 31 days\n",
      "December month has 31 days\n",
      "February has 28/29 days in month\n"
     ]
    }
   ],
   "source": [
    "#Python program to convert the month name to a number of days.\n",
    "months=['January','March','September','November','August','December','February']\n",
    "for i in months:\n",
    "    if( i=='February'):\n",
    "        print(\"February has 28/29 days in month\")\n",
    "    elif i in ('January','March','May','July','September','November'):\n",
    "        print(i,\"month has 30 days\")\n",
    "    elif i in ('April','June','August','October','December'):\n",
    "        print(i,\"month has 31 days\")"
   ]
  },
  {
   "cell_type": "code",
   "execution_count": 21,
   "id": "de12438a-f8a2-484f-b91a-3e265ea66994",
   "metadata": {},
   "outputs": [
    {
     "name": "stdout",
     "output_type": "stream",
     "text": [
      "75\n",
      "150\n",
      "145\n",
      "50\n"
     ]
    }
   ],
   "source": [
    "#Display numbers from a list using loop\n",
    "num=[12,75,150,180,145,525,50]\n",
    "for i in num:\n",
    "    if(i>150):\n",
    "        continue\n",
    "    elif(i>500):\n",
    "        break\n",
    "    elif(i%5==0):\n",
    "        print(i)\n",
    "        \n",
    "        \n",
    "        "
   ]
  },
  {
   "cell_type": "code",
   "execution_count": null,
   "id": "815cef8b-2d79-4d26-b516-ddcea419f982",
   "metadata": {},
   "outputs": [],
   "source": [
    "\n"
   ]
  }
 ],
 "metadata": {
  "kernelspec": {
   "display_name": "Python 3 (ipykernel)",
   "language": "python",
   "name": "python3"
  },
  "language_info": {
   "codemirror_mode": {
    "name": "ipython",
    "version": 3
   },
   "file_extension": ".py",
   "mimetype": "text/x-python",
   "name": "python",
   "nbconvert_exporter": "python",
   "pygments_lexer": "ipython3",
   "version": "3.11.7"
  }
 },
 "nbformat": 4,
 "nbformat_minor": 5
}
