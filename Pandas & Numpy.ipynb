{
 "cells": [
  {
   "cell_type": "markdown",
   "id": "52972e44-001a-4a57-8f1e-ba6bec9f9a3e",
   "metadata": {},
   "source": [
    "# Numpy\n",
    "#importing the libraries\n",
    "import numpy as np\n",
    "import pandas as pd"
   ]
  },
  {
   "cell_type": "code",
   "execution_count": 78,
   "id": "1ac72ca6-d8c9-4f60-b3ce-d4163c509105",
   "metadata": {},
   "outputs": [],
   "source": [
    "import numpy as np \n",
    "import pandas as pd\n",
    "#Generating the random variables\n",
    "exp=np.random.normal(500,700,100)"
   ]
  },
  {
   "cell_type": "code",
   "execution_count": 10,
   "id": "060de0d5-a2c1-49a3-b36b-60497792fbf3",
   "metadata": {},
   "outputs": [
    {
     "data": {
      "text/plain": [
       "array([  987.11011443,  -262.75720883,  -159.88036586,   471.05090967,\n",
       "        1316.41591886,   872.94630244,   703.22094473,  1067.5979963 ,\n",
       "         193.32148506,   547.43960308,   602.40062127,   675.34119547,\n",
       "        2264.54091447,    98.80164004,  1917.38411466,  -458.84585642,\n",
       "         964.27690621,   308.82131425,    90.28285675,  -235.29628227,\n",
       "           4.48224479,   577.9334316 ,   292.66148251,  -180.23070603,\n",
       "          18.8349811 ,  -300.46430708,  1357.7040686 ,   261.62592951,\n",
       "         690.025218  ,   -89.7854421 ,  1054.65891068,   453.43116672,\n",
       "          75.63745816,   689.90937858,  -161.53440316,    20.22012442,\n",
       "        -122.05543076,   -16.15965825,   826.10690314,   148.92317038,\n",
       "         531.82902883,   547.6045899 ,   -29.66425424,   717.04429158,\n",
       "         417.64518893,   -48.66967516,  -184.78151133,  1277.01074393,\n",
       "         571.13111412,  -165.28777963,   694.68033072,  1740.49855406,\n",
       "        -291.55071307,   324.06740957,  2203.93671361,     8.42994313,\n",
       "         439.9605908 ,   425.47326054,   742.09988659,   704.02036651,\n",
       "         919.21634889,  -157.42151042,   325.31234744,  -473.69492357,\n",
       "       -1396.63851352,   993.6595345 ,  1245.95697116,  1026.73246231,\n",
       "        -932.66896387,   921.04702203,  2052.11507585,  1699.8105946 ,\n",
       "        1348.31140571,  1316.80892741,  -266.11005037,  1258.90914838,\n",
       "         215.79913232,  1355.79341934,  -454.23330081,   586.44590752,\n",
       "        1096.97518267,  -175.25349629,  -144.72328715,   507.94574666,\n",
       "        1423.39060967,   413.4148928 ,  -416.72854703,    25.32666968,\n",
       "        1690.36839608,  2086.30726612,  1244.72657083,   554.77017775,\n",
       "         903.53252097, -1174.4577349 ,  1540.52755302,    86.95928763,\n",
       "        1420.60968667,   219.98287136,  -353.68909721,  1210.87492619])"
      ]
     },
     "execution_count": 10,
     "metadata": {},
     "output_type": "execute_result"
    }
   ],
   "source": [
    "exp"
   ]
  },
  {
   "cell_type": "code",
   "execution_count": 11,
   "id": "790cad58-eb49-48b1-9458-5bde1bc0cca2",
   "metadata": {},
   "outputs": [
    {
     "data": {
      "text/plain": [
       "519.3758695489466"
      ]
     },
     "execution_count": 11,
     "metadata": {},
     "output_type": "execute_result"
    }
   ],
   "source": [
    "#calculating the mean\n",
    "np.mean(exp)"
   ]
  },
  {
   "cell_type": "code",
   "execution_count": 12,
   "id": "544a33ac-1158-4a71-9bbc-0005d6c0200a",
   "metadata": {},
   "outputs": [
    {
     "data": {
      "text/plain": [
       "489.49832816849505"
      ]
     },
     "execution_count": 12,
     "metadata": {},
     "output_type": "execute_result"
    }
   ],
   "source": [
    "#calculating the median\n",
    "np.median(exp)"
   ]
  },
  {
   "cell_type": "code",
   "execution_count": 13,
   "id": "bd159942-e806-4dae-8207-8b55f514069a",
   "metadata": {},
   "outputs": [],
   "source": [
    "import statistics as st"
   ]
  },
  {
   "cell_type": "code",
   "execution_count": 15,
   "id": "1ad87b9c-5fa4-4d6b-860a-a0856c602952",
   "metadata": {},
   "outputs": [
    {
     "data": {
      "text/plain": [
       "987.110114426634"
      ]
     },
     "execution_count": 15,
     "metadata": {},
     "output_type": "execute_result"
    }
   ],
   "source": [
    "st.mode(exp)"
   ]
  },
  {
   "cell_type": "code",
   "execution_count": 16,
   "id": "fcb3a201-b488-4f30-b569-2a47023ffb01",
   "metadata": {},
   "outputs": [],
   "source": [
    "data=[1,2,3,4,5,6,7,8]"
   ]
  },
  {
   "cell_type": "code",
   "execution_count": 17,
   "id": "8af2f445-1927-4988-825b-759e02bc672a",
   "metadata": {},
   "outputs": [
    {
     "data": {
      "text/plain": [
       "1"
      ]
     },
     "execution_count": 17,
     "metadata": {},
     "output_type": "execute_result"
    }
   ],
   "source": [
    "st.mode(data)"
   ]
  },
  {
   "cell_type": "code",
   "execution_count": 18,
   "id": "76806307-51b8-467f-80d1-071f176b990e",
   "metadata": {},
   "outputs": [],
   "source": [
    "exp=np.append(exp,[10000000])"
   ]
  },
  {
   "cell_type": "code",
   "execution_count": 19,
   "id": "68b27440-e9d0-4270-b133-19dd9a72330f",
   "metadata": {},
   "outputs": [
    {
     "data": {
      "text/plain": [
       "array([ 9.87110114e+02, -2.62757209e+02, -1.59880366e+02,  4.71050910e+02,\n",
       "        1.31641592e+03,  8.72946302e+02,  7.03220945e+02,  1.06759800e+03,\n",
       "        1.93321485e+02,  5.47439603e+02,  6.02400621e+02,  6.75341195e+02,\n",
       "        2.26454091e+03,  9.88016400e+01,  1.91738411e+03, -4.58845856e+02,\n",
       "        9.64276906e+02,  3.08821314e+02,  9.02828568e+01, -2.35296282e+02,\n",
       "        4.48224479e+00,  5.77933432e+02,  2.92661483e+02, -1.80230706e+02,\n",
       "        1.88349811e+01, -3.00464307e+02,  1.35770407e+03,  2.61625930e+02,\n",
       "        6.90025218e+02, -8.97854421e+01,  1.05465891e+03,  4.53431167e+02,\n",
       "        7.56374582e+01,  6.89909379e+02, -1.61534403e+02,  2.02201244e+01,\n",
       "       -1.22055431e+02, -1.61596582e+01,  8.26106903e+02,  1.48923170e+02,\n",
       "        5.31829029e+02,  5.47604590e+02, -2.96642542e+01,  7.17044292e+02,\n",
       "        4.17645189e+02, -4.86696752e+01, -1.84781511e+02,  1.27701074e+03,\n",
       "        5.71131114e+02, -1.65287780e+02,  6.94680331e+02,  1.74049855e+03,\n",
       "       -2.91550713e+02,  3.24067410e+02,  2.20393671e+03,  8.42994313e+00,\n",
       "        4.39960591e+02,  4.25473261e+02,  7.42099887e+02,  7.04020367e+02,\n",
       "        9.19216349e+02, -1.57421510e+02,  3.25312347e+02, -4.73694924e+02,\n",
       "       -1.39663851e+03,  9.93659534e+02,  1.24595697e+03,  1.02673246e+03,\n",
       "       -9.32668964e+02,  9.21047022e+02,  2.05211508e+03,  1.69981059e+03,\n",
       "        1.34831141e+03,  1.31680893e+03, -2.66110050e+02,  1.25890915e+03,\n",
       "        2.15799132e+02,  1.35579342e+03, -4.54233301e+02,  5.86445908e+02,\n",
       "        1.09697518e+03, -1.75253496e+02, -1.44723287e+02,  5.07945747e+02,\n",
       "        1.42339061e+03,  4.13414893e+02, -4.16728547e+02,  2.53266697e+01,\n",
       "        1.69036840e+03,  2.08630727e+03,  1.24472657e+03,  5.54770178e+02,\n",
       "        9.03532521e+02, -1.17445773e+03,  1.54052755e+03,  8.69592876e+01,\n",
       "        1.42060969e+03,  2.19982871e+02, -3.53689097e+02,  1.21087493e+03,\n",
       "        1.00000000e+07])"
      ]
     },
     "execution_count": 19,
     "metadata": {},
     "output_type": "execute_result"
    }
   ],
   "source": [
    "exp"
   ]
  },
  {
   "cell_type": "code",
   "execution_count": 20,
   "id": "f82ee1bf-af26-49af-a6cd-6ed4875cc8b8",
   "metadata": {},
   "outputs": [
    {
     "data": {
      "text/plain": [
       "99524.13452430589"
      ]
     },
     "execution_count": 20,
     "metadata": {},
     "output_type": "execute_result"
    }
   ],
   "source": [
    "np.mean(exp)"
   ]
  },
  {
   "cell_type": "code",
   "execution_count": 21,
   "id": "faf5e4bf-d12f-4af4-a621-7a618463e28f",
   "metadata": {},
   "outputs": [
    {
     "data": {
      "text/plain": [
       "507.94574666288946"
      ]
     },
     "execution_count": 21,
     "metadata": {},
     "output_type": "execute_result"
    }
   ],
   "source": [
    "np.median(exp)"
   ]
  },
  {
   "cell_type": "code",
   "execution_count": 24,
   "id": "5f459a55-c7d2-4ac2-937d-154af67c59d7",
   "metadata": {},
   "outputs": [
    {
     "data": {
      "text/plain": [
       "989996694506.0139"
      ]
     },
     "execution_count": 24,
     "metadata": {},
     "output_type": "execute_result"
    }
   ],
   "source": [
    "st.variance(exp)"
   ]
  },
  {
   "cell_type": "code",
   "execution_count": 25,
   "id": "25ac4cdb-0c09-49e8-b334-28a59e50ad13",
   "metadata": {},
   "outputs": [
    {
     "data": {
      "text/plain": [
       "994985.7760320064"
      ]
     },
     "execution_count": 25,
     "metadata": {},
     "output_type": "execute_result"
    }
   ],
   "source": [
    "st.stdev(exp)"
   ]
  },
  {
   "cell_type": "code",
   "execution_count": 52,
   "id": "eb970a62-6619-4bac-8f7e-570e7d06ba5f",
   "metadata": {},
   "outputs": [],
   "source": [
    "from scipy import stats\n",
    "data=[23,45,67,89,87,46,22,32,54,65,76,12,98,9]"
   ]
  },
  {
   "cell_type": "code",
   "execution_count": 53,
   "id": "e41c5f7d-4947-4a4b-9f31-346c61f7e9b2",
   "metadata": {},
   "outputs": [],
   "source": [
    "IQR=stats.iqr(data,interpolation='midpoint')"
   ]
  },
  {
   "cell_type": "code",
   "execution_count": 54,
   "id": "c3e63cd8-a86b-4802-a2f7-3ed45e713afa",
   "metadata": {},
   "outputs": [
    {
     "data": {
      "text/plain": [
       "44.0"
      ]
     },
     "execution_count": 54,
     "metadata": {},
     "output_type": "execute_result"
    }
   ],
   "source": [
    "IQR"
   ]
  },
  {
   "cell_type": "code",
   "execution_count": 55,
   "id": "ef9d609e-720a-4d34-9ced-28994ba824e7",
   "metadata": {},
   "outputs": [
    {
     "data": {
      "text/plain": [
       "14"
      ]
     },
     "execution_count": 55,
     "metadata": {},
     "output_type": "execute_result"
    }
   ],
   "source": [
    "len(data)"
   ]
  },
  {
   "cell_type": "code",
   "execution_count": 56,
   "id": "b3d5a6c1-8f2e-4513-886e-b114e5ddabe9",
   "metadata": {},
   "outputs": [],
   "source": [
    "data.sort()"
   ]
  },
  {
   "cell_type": "code",
   "execution_count": 57,
   "id": "26563042-e1f1-4e9f-b9a9-1435935904c0",
   "metadata": {},
   "outputs": [
    {
     "data": {
      "text/plain": [
       "[9, 12, 22, 23, 32, 45, 46, 54, 65, 67, 76, 87, 89, 98]"
      ]
     },
     "execution_count": 57,
     "metadata": {},
     "output_type": "execute_result"
    }
   ],
   "source": [
    "data"
   ]
  },
  {
   "cell_type": "code",
   "execution_count": 58,
   "id": "3cb8c4f6-f498-49b8-85b2-a0b20aa1e00c",
   "metadata": {},
   "outputs": [
    {
     "data": {
      "text/plain": [
       "3.75"
      ]
     },
     "execution_count": 58,
     "metadata": {},
     "output_type": "execute_result"
    }
   ],
   "source": [
    "q1_loc=(len(data)+1)*25/100\n",
    "q1_loc"
   ]
  },
  {
   "cell_type": "code",
   "execution_count": 59,
   "id": "fe3a4785-54e6-44b8-8607-674d7abb79cf",
   "metadata": {},
   "outputs": [
    {
     "data": {
      "text/plain": [
       "11.25"
      ]
     },
     "execution_count": 59,
     "metadata": {},
     "output_type": "execute_result"
    }
   ],
   "source": [
    "q3_loc=(len(data)+1)*75/100\n",
    "q3_loc"
   ]
  },
  {
   "cell_type": "code",
   "execution_count": 65,
   "id": "b474038c-d897-4a1d-ae5a-2c813564c16e",
   "metadata": {},
   "outputs": [
    {
     "data": {
      "text/plain": [
       "23.75"
      ]
     },
     "execution_count": 65,
     "metadata": {},
     "output_type": "execute_result"
    }
   ],
   "source": [
    "q1=data[3]+0.75*(data[3]-data[2]) #q1=data[5]+0.25*(data[5]-data[4])\n",
    "q1"
   ]
  },
  {
   "cell_type": "code",
   "execution_count": 64,
   "id": "47685d31-2c80-451b-8bfd-20426b33ce75",
   "metadata": {},
   "outputs": [
    {
     "data": {
      "text/plain": [
       "89.75"
      ]
     },
     "execution_count": 64,
     "metadata": {},
     "output_type": "execute_result"
    }
   ],
   "source": [
    "q3=data[11]+0.25*(data[11]-data[10])\n",
    "q3"
   ]
  },
  {
   "cell_type": "code",
   "execution_count": 66,
   "id": "e42bc59b-f82e-4d22-815d-50617336708f",
   "metadata": {},
   "outputs": [
    {
     "data": {
      "text/plain": [
       "87"
      ]
     },
     "execution_count": 66,
     "metadata": {},
     "output_type": "execute_result"
    }
   ],
   "source": [
    "data[11]"
   ]
  },
  {
   "cell_type": "code",
   "execution_count": 67,
   "id": "62edcdd8-7e30-4a8c-a4f0-ea6ee030093b",
   "metadata": {},
   "outputs": [
    {
     "data": {
      "text/plain": [
       "23"
      ]
     },
     "execution_count": 67,
     "metadata": {},
     "output_type": "execute_result"
    }
   ],
   "source": [
    "data[3]"
   ]
  },
  {
   "cell_type": "code",
   "execution_count": 68,
   "id": "0039c87b-ab71-4bc3-98a6-c2f936efad57",
   "metadata": {},
   "outputs": [
    {
     "data": {
      "text/plain": [
       "66.0"
      ]
     },
     "execution_count": 68,
     "metadata": {},
     "output_type": "execute_result"
    }
   ],
   "source": [
    "q3-q1"
   ]
  },
  {
   "cell_type": "code",
   "execution_count": 75,
   "id": "0c5b36a5-05d4-41ef-9f2d-e76553532137",
   "metadata": {},
   "outputs": [
    {
     "data": {
      "text/plain": [
       "155.75"
      ]
     },
     "execution_count": 75,
     "metadata": {},
     "output_type": "execute_result"
    }
   ],
   "source": [
    "#Boxplot\n",
    "ub=q3+1.5*(IQR)\n",
    "ub"
   ]
  },
  {
   "cell_type": "code",
   "execution_count": 76,
   "id": "346ea519-52c1-4fbf-8a63-c5af3bdfc01d",
   "metadata": {},
   "outputs": [
    {
     "data": {
      "text/plain": [
       "23.75"
      ]
     },
     "execution_count": 76,
     "metadata": {},
     "output_type": "execute_result"
    }
   ],
   "source": [
    "lb=q3-1.5*(IQR)\n",
    "lb"
   ]
  },
  {
   "cell_type": "code",
   "execution_count": 77,
   "id": "cdbadf9a-b5e6-4797-b724-97a8429d17a9",
   "metadata": {},
   "outputs": [
    {
     "name": "stdout",
     "output_type": "stream",
     "text": [
      "Outliers\n",
      "9\n",
      "12\n",
      "22\n",
      "23\n"
     ]
    }
   ],
   "source": [
    "print('Outliers')\n",
    "for i in data:\n",
    "    if i<lb:\n",
    "        print(i)\n",
    "    if i>ub:\n",
    "        print(i)"
   ]
  },
  {
   "cell_type": "markdown",
   "id": "184e8d2b-95ce-4c2b-bdd4-c593e24b40b9",
   "metadata": {},
   "source": [
    "# Pandas"
   ]
  },
  {
   "cell_type": "code",
   "execution_count": 79,
   "id": "b505129a-6066-4d32-a6fb-92f6b7e07261",
   "metadata": {},
   "outputs": [],
   "source": [
    "import pandas as pd"
   ]
  },
  {
   "cell_type": "code",
   "execution_count": 80,
   "id": "a8752a91-1b80-4cd9-8f91-cd35835946ce",
   "metadata": {},
   "outputs": [],
   "source": [
    "#Creating the empty series\n",
    "a=pd.Series(12)"
   ]
  },
  {
   "cell_type": "code",
   "execution_count": 81,
   "id": "1916fad6-7ed9-40dd-b96b-ac3e4893cc6b",
   "metadata": {},
   "outputs": [
    {
     "data": {
      "text/plain": [
       "0    12\n",
       "dtype: int64"
      ]
     },
     "execution_count": 81,
     "metadata": {},
     "output_type": "execute_result"
    }
   ],
   "source": [
    "a"
   ]
  },
  {
   "cell_type": "code",
   "execution_count": 82,
   "id": "366c5665-9bcc-4db6-a38d-290f4648aaf2",
   "metadata": {},
   "outputs": [
    {
     "data": {
      "text/plain": [
       "0    1\n",
       "1    2\n",
       "2    3\n",
       "3    4\n",
       "4    5\n",
       "5    6\n",
       "dtype: int64"
      ]
     },
     "execution_count": 82,
     "metadata": {},
     "output_type": "execute_result"
    }
   ],
   "source": [
    "#Using tuple\n",
    "t=(1,2,3,4,5,6)\n",
    "pd.Series(t)"
   ]
  },
  {
   "cell_type": "code",
   "execution_count": 83,
   "id": "d3cfe3e7-6261-4e76-af95-b81c41f9c42c",
   "metadata": {},
   "outputs": [
    {
     "data": {
      "text/plain": [
       "0     1\n",
       "1    12\n",
       "2    13\n",
       "3    14\n",
       "4    15\n",
       "5    16\n",
       "6    17\n",
       "dtype: int64"
      ]
     },
     "execution_count": 83,
     "metadata": {},
     "output_type": "execute_result"
    }
   ],
   "source": [
    "#Using List\n",
    "l=[1,12,13,14,15,16,17]\n",
    "pd.Series(l)"
   ]
  },
  {
   "cell_type": "code",
   "execution_count": 86,
   "id": "05f9cde6-51f1-4c75-a89d-bef2db55b1fe",
   "metadata": {},
   "outputs": [
    {
     "data": {
      "text/plain": [
       "0    10\n",
       "1    20\n",
       "2    30\n",
       "3    40\n",
       "4    50\n",
       "dtype: int32"
      ]
     },
     "execution_count": 86,
     "metadata": {},
     "output_type": "execute_result"
    }
   ],
   "source": [
    "#Creating series with array\n",
    "import numpy as np\n",
    "a=np.array([10,20,30,40,50])\n",
    "d1=pd.Series(a)\n",
    "d1"
   ]
  },
  {
   "cell_type": "code",
   "execution_count": 92,
   "id": "aa6123b2-f8b2-45b5-8d8e-d5517fa03e72",
   "metadata": {},
   "outputs": [
    {
     "data": {
      "text/plain": [
       "array([[ 1,  2],\n",
       "       [ 4,  5],\n",
       "       [ 5,  6],\n",
       "       [10, 20]])"
      ]
     },
     "execution_count": 92,
     "metadata": {},
     "output_type": "execute_result"
    }
   ],
   "source": [
    "arr1=np.array([[1,2],[4,5],[5,6],[10,20]])\n",
    "arr1"
   ]
  },
  {
   "cell_type": "code",
   "execution_count": 93,
   "id": "a640c56e-5d30-422c-a0a7-6e408317331d",
   "metadata": {},
   "outputs": [
    {
     "data": {
      "text/plain": [
       "(4, 2)"
      ]
     },
     "execution_count": 93,
     "metadata": {},
     "output_type": "execute_result"
    }
   ],
   "source": [
    "arr1.shape"
   ]
  },
  {
   "cell_type": "code",
   "execution_count": 94,
   "id": "b7f01903-2035-4b1f-a979-ea2b9fe070a4",
   "metadata": {},
   "outputs": [
    {
     "ename": "ValueError",
     "evalue": "Data must be 1-dimensional, got ndarray of shape (4, 2) instead",
     "output_type": "error",
     "traceback": [
      "\u001b[1;31m---------------------------------------------------------------------------\u001b[0m",
      "\u001b[1;31mValueError\u001b[0m                                Traceback (most recent call last)",
      "Cell \u001b[1;32mIn[94], line 1\u001b[0m\n\u001b[1;32m----> 1\u001b[0m s\u001b[38;5;241m=\u001b[39mpd\u001b[38;5;241m.\u001b[39mSeries(arr1)\n",
      "File \u001b[1;32m~\\anaconda3\\Lib\\site-packages\\pandas\\core\\series.py:512\u001b[0m, in \u001b[0;36mSeries.__init__\u001b[1;34m(self, data, index, dtype, name, copy, fastpath)\u001b[0m\n\u001b[0;32m    510\u001b[0m         data \u001b[38;5;241m=\u001b[39m data\u001b[38;5;241m.\u001b[39mcopy()\n\u001b[0;32m    511\u001b[0m \u001b[38;5;28;01melse\u001b[39;00m:\n\u001b[1;32m--> 512\u001b[0m     data \u001b[38;5;241m=\u001b[39m sanitize_array(data, index, dtype, copy)\n\u001b[0;32m    514\u001b[0m     manager \u001b[38;5;241m=\u001b[39m get_option(\u001b[38;5;124m\"\u001b[39m\u001b[38;5;124mmode.data_manager\u001b[39m\u001b[38;5;124m\"\u001b[39m)\n\u001b[0;32m    515\u001b[0m     \u001b[38;5;28;01mif\u001b[39;00m manager \u001b[38;5;241m==\u001b[39m \u001b[38;5;124m\"\u001b[39m\u001b[38;5;124mblock\u001b[39m\u001b[38;5;124m\"\u001b[39m:\n",
      "File \u001b[1;32m~\\anaconda3\\Lib\\site-packages\\pandas\\core\\construction.py:658\u001b[0m, in \u001b[0;36msanitize_array\u001b[1;34m(data, index, dtype, copy, allow_2d)\u001b[0m\n\u001b[0;32m    655\u001b[0m             subarr \u001b[38;5;241m=\u001b[39m cast(np\u001b[38;5;241m.\u001b[39mndarray, subarr)\n\u001b[0;32m    656\u001b[0m             subarr \u001b[38;5;241m=\u001b[39m maybe_infer_to_datetimelike(subarr)\n\u001b[1;32m--> 658\u001b[0m subarr \u001b[38;5;241m=\u001b[39m _sanitize_ndim(subarr, data, dtype, index, allow_2d\u001b[38;5;241m=\u001b[39mallow_2d)\n\u001b[0;32m    660\u001b[0m \u001b[38;5;28;01mif\u001b[39;00m \u001b[38;5;28misinstance\u001b[39m(subarr, np\u001b[38;5;241m.\u001b[39mndarray):\n\u001b[0;32m    661\u001b[0m     \u001b[38;5;66;03m# at this point we should have dtype be None or subarr.dtype == dtype\u001b[39;00m\n\u001b[0;32m    662\u001b[0m     dtype \u001b[38;5;241m=\u001b[39m cast(np\u001b[38;5;241m.\u001b[39mdtype, dtype)\n",
      "File \u001b[1;32m~\\anaconda3\\Lib\\site-packages\\pandas\\core\\construction.py:717\u001b[0m, in \u001b[0;36m_sanitize_ndim\u001b[1;34m(result, data, dtype, index, allow_2d)\u001b[0m\n\u001b[0;32m    715\u001b[0m     \u001b[38;5;28;01mif\u001b[39;00m allow_2d:\n\u001b[0;32m    716\u001b[0m         \u001b[38;5;28;01mreturn\u001b[39;00m result\n\u001b[1;32m--> 717\u001b[0m     \u001b[38;5;28;01mraise\u001b[39;00m \u001b[38;5;167;01mValueError\u001b[39;00m(\n\u001b[0;32m    718\u001b[0m         \u001b[38;5;124mf\u001b[39m\u001b[38;5;124m\"\u001b[39m\u001b[38;5;124mData must be 1-dimensional, got ndarray of shape \u001b[39m\u001b[38;5;132;01m{\u001b[39;00mdata\u001b[38;5;241m.\u001b[39mshape\u001b[38;5;132;01m}\u001b[39;00m\u001b[38;5;124m instead\u001b[39m\u001b[38;5;124m\"\u001b[39m\n\u001b[0;32m    719\u001b[0m     )\n\u001b[0;32m    720\u001b[0m \u001b[38;5;28;01mif\u001b[39;00m is_object_dtype(dtype) \u001b[38;5;129;01mand\u001b[39;00m \u001b[38;5;28misinstance\u001b[39m(dtype, ExtensionDtype):\n\u001b[0;32m    721\u001b[0m     \u001b[38;5;66;03m# i.e. NumpyEADtype(\"O\")\u001b[39;00m\n\u001b[0;32m    723\u001b[0m     result \u001b[38;5;241m=\u001b[39m com\u001b[38;5;241m.\u001b[39masarray_tuplesafe(data, dtype\u001b[38;5;241m=\u001b[39mnp\u001b[38;5;241m.\u001b[39mdtype(\u001b[38;5;124m\"\u001b[39m\u001b[38;5;124mobject\u001b[39m\u001b[38;5;124m\"\u001b[39m))\n",
      "\u001b[1;31mValueError\u001b[0m: Data must be 1-dimensional, got ndarray of shape (4, 2) instead"
     ]
    }
   ],
   "source": [
    "s=pd.Series(arr1)"
   ]
  },
  {
   "cell_type": "code",
   "execution_count": 95,
   "id": "0dd510e9-f88e-4c47-a9cc-ee84641498af",
   "metadata": {},
   "outputs": [],
   "source": [
    "#this error occured becoz Series is 1D only and the given array here is 2D"
   ]
  },
  {
   "cell_type": "code",
   "execution_count": 96,
   "id": "d7af97c3-75a0-4492-97a6-936c1bf7732b",
   "metadata": {},
   "outputs": [],
   "source": [
    "#USing Dictionary\n",
    "a = {'a':1,'b':'sejal','c':'jayesh'}"
   ]
  },
  {
   "cell_type": "code",
   "execution_count": 97,
   "id": "4baf9da6-7141-4685-ac83-1703503f8c7f",
   "metadata": {},
   "outputs": [],
   "source": [
    "d2=pd.Series(a)"
   ]
  },
  {
   "cell_type": "code",
   "execution_count": 98,
   "id": "fcbb344f-16cc-40e1-aa2c-4480112138a6",
   "metadata": {},
   "outputs": [
    {
     "data": {
      "text/plain": [
       "a         1\n",
       "b     sejal\n",
       "c    jayesh\n",
       "dtype: object"
      ]
     },
     "execution_count": 98,
     "metadata": {},
     "output_type": "execute_result"
    }
   ],
   "source": [
    "d2"
   ]
  },
  {
   "cell_type": "code",
   "execution_count": 99,
   "id": "824356bd-0050-47f9-bc07-83f25d7b6cd5",
   "metadata": {},
   "outputs": [
    {
     "data": {
      "text/plain": [
       "1"
      ]
     },
     "execution_count": 99,
     "metadata": {},
     "output_type": "execute_result"
    }
   ],
   "source": [
    "a['a']"
   ]
  },
  {
   "cell_type": "code",
   "execution_count": 100,
   "id": "07cbf43f-ceb1-4b1f-98e5-03ec2ff8ddac",
   "metadata": {},
   "outputs": [
    {
     "data": {
      "text/plain": [
       "'sejal'"
      ]
     },
     "execution_count": 100,
     "metadata": {},
     "output_type": "execute_result"
    }
   ],
   "source": [
    "a['b']"
   ]
  },
  {
   "cell_type": "code",
   "execution_count": 101,
   "id": "e8e4a335-b9f2-4851-9cfa-47e0307480b7",
   "metadata": {},
   "outputs": [
    {
     "data": {
      "text/plain": [
       "'jayesh'"
      ]
     },
     "execution_count": 101,
     "metadata": {},
     "output_type": "execute_result"
    }
   ],
   "source": [
    "a['c']"
   ]
  },
  {
   "cell_type": "code",
   "execution_count": 102,
   "id": "64edece5-ed82-4b1a-8a2b-9e75cb388745",
   "metadata": {},
   "outputs": [],
   "source": [
    "#Slicing operation\n",
    "d=pd.Series([1,2,23,44,5,6,77,8,9,90,100,32,43,54,65,55,64,63,73])"
   ]
  },
  {
   "cell_type": "code",
   "execution_count": 103,
   "id": "20022904-667e-4d09-8614-5ba8ebb9ed22",
   "metadata": {},
   "outputs": [
    {
     "data": {
      "text/plain": [
       "77"
      ]
     },
     "execution_count": 103,
     "metadata": {},
     "output_type": "execute_result"
    }
   ],
   "source": [
    "d[6]"
   ]
  },
  {
   "cell_type": "code",
   "execution_count": 104,
   "id": "c5c6d08b-ddb1-4451-8c48-ea1d5ab10df6",
   "metadata": {},
   "outputs": [
    {
     "data": {
      "text/plain": [
       "6      77\n",
       "7       8\n",
       "8       9\n",
       "9      90\n",
       "10    100\n",
       "dtype: int64"
      ]
     },
     "execution_count": 104,
     "metadata": {},
     "output_type": "execute_result"
    }
   ],
   "source": [
    "d[[6,7,8,9,10]]"
   ]
  },
  {
   "cell_type": "code",
   "execution_count": 107,
   "id": "080dce7e-692a-49a1-956c-1f6b8e84612e",
   "metadata": {},
   "outputs": [
    {
     "data": {
      "text/plain": [
       "0       1\n",
       "1       2\n",
       "2      23\n",
       "3      13\n",
       "4      14\n",
       "5      15\n",
       "6      16\n",
       "7      17\n",
       "8      18\n",
       "9     200\n",
       "10    100\n",
       "11     32\n",
       "12     43\n",
       "13     54\n",
       "14     65\n",
       "15     55\n",
       "16     64\n",
       "17     63\n",
       "18     73\n",
       "dtype: object"
      ]
     },
     "execution_count": 107,
     "metadata": {},
     "output_type": "execute_result"
    }
   ],
   "source": [
    "d[3:10]=[13,14,15,16,17,18,200]\n",
    "d"
   ]
  },
  {
   "cell_type": "code",
   "execution_count": 110,
   "id": "f6624f66-5164-4f54-896c-a9d5989f18e3",
   "metadata": {},
   "outputs": [
    {
     "ename": "TypeError",
     "evalue": "'builtin_function_or_method' object is not subscriptable",
     "output_type": "error",
     "traceback": [
      "\u001b[1;31m---------------------------------------------------------------------------\u001b[0m",
      "\u001b[1;31mTypeError\u001b[0m                                 Traceback (most recent call last)",
      "Cell \u001b[1;32mIn[110], line 1\u001b[0m\n\u001b[1;32m----> 1\u001b[0m arr9\u001b[38;5;241m=\u001b[39mnp\u001b[38;5;241m.\u001b[39marray[\u001b[38;5;241m10\u001b[39m,\u001b[38;5;241m20\u001b[39m,\u001b[38;5;241m30\u001b[39m,\u001b[38;5;241m40\u001b[39m]\n\u001b[0;32m      2\u001b[0m d4\u001b[38;5;241m=\u001b[39mpd\u001b[38;5;241m.\u001b[39mSeries(arr9,index\u001b[38;5;241m=\u001b[39m[\u001b[38;5;124m'\u001b[39m\u001b[38;5;124mone\u001b[39m\u001b[38;5;124m'\u001b[39m,\u001b[38;5;124m'\u001b[39m\u001b[38;5;124mb\u001b[39m\u001b[38;5;124m'\u001b[39m,\u001b[38;5;124m'\u001b[39m\u001b[38;5;124mc\u001b[39m\u001b[38;5;124m'\u001b[39m,\u001b[38;5;124m'\u001b[39m\u001b[38;5;124md\u001b[39m\u001b[38;5;124m'\u001b[39m])\n\u001b[0;32m      3\u001b[0m d4\n",
      "\u001b[1;31mTypeError\u001b[0m: 'builtin_function_or_method' object is not subscriptable"
     ]
    }
   ],
   "source": [
    "arr9=np.array[10,20,30,40]\n",
    "d4=pd.Series(arr9,index=['one','b','c','d'])\n",
    "d4"
   ]
  },
  {
   "cell_type": "code",
   "execution_count": null,
   "id": "d03abdbe-6c1f-4bcc-baed-161f3583944f",
   "metadata": {},
   "outputs": [],
   "source": []
  }
 ],
 "metadata": {
  "kernelspec": {
   "display_name": "Python 3 (ipykernel)",
   "language": "python",
   "name": "python3"
  },
  "language_info": {
   "codemirror_mode": {
    "name": "ipython",
    "version": 3
   },
   "file_extension": ".py",
   "mimetype": "text/x-python",
   "name": "python",
   "nbconvert_exporter": "python",
   "pygments_lexer": "ipython3",
   "version": "3.11.7"
  }
 },
 "nbformat": 4,
 "nbformat_minor": 5
}
