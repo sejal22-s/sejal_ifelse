{
 "cells": [
  {
   "cell_type": "code",
   "execution_count": 1,
   "id": "172001b6-c5b9-4adc-a0ab-d5303b622ae4",
   "metadata": {},
   "outputs": [
    {
     "name": "stdout",
     "output_type": "stream",
     "text": [
      "['H', 'e', 'l', 'l', 'o', 'W', 'o', 'r', 'l', 'd']\n"
     ]
    }
   ],
   "source": [
    "#Generate a list of character from a string \n",
    "string='Hello,World'\n",
    "char=[char for char in string if char.isalpha()]\n",
    "print(char)"
   ]
  },
  {
   "cell_type": "code",
   "execution_count": 2,
   "id": "90265893-5a76-44f7-adea-e55d3924e7bb",
   "metadata": {},
   "outputs": [
    {
     "name": "stdout",
     "output_type": "stream",
     "text": [
      "[1, 4, 9, 16, 25, 36, 49, 64, 81, 100]\n"
     ]
    }
   ],
   "source": [
    "#Square from 1 to 10\n",
    "sq=[i**2 for i in range(1,11)]\n",
    "print(sq)"
   ]
  },
  {
   "cell_type": "code",
   "execution_count": 6,
   "id": "4caf5364-0bb9-4bfc-8606-b6d9b9214bb3",
   "metadata": {},
   "outputs": [
    {
     "name": "stdout",
     "output_type": "stream",
     "text": [
      "[2, 4, 6, 8, 10, 12, 14, 16, 18, 20]\n"
     ]
    }
   ],
   "source": [
    "#Create the list of even number from 1 to 20\n",
    "even=[i for i in range(1,21)if i%2==0]\n",
    "print(even)"
   ]
  },
  {
   "cell_type": "code",
   "execution_count": 10,
   "id": "b95b7d65-6658-4748-82a3-7f785ac2209e",
   "metadata": {},
   "outputs": [
    {
     "name": "stdout",
     "output_type": "stream",
     "text": [
      "[5, 6, 8]\n"
     ]
    }
   ],
   "source": [
    "#Create the list of lengths of words \n",
    "list=['sejal','jayesh','shreyash']\n",
    "length=[len(word) for word in list ]\n",
    "print(length)"
   ]
  },
  {
   "cell_type": "code",
   "execution_count": 14,
   "id": "98914e4d-da68-4a33-bfed-82e411e2abe4",
   "metadata": {},
   "outputs": [
    {
     "name": "stdout",
     "output_type": "stream",
     "text": [
      "[(1, 1), (2, 4), (3, 9), (4, 16), (5, 25)]\n"
     ]
    }
   ],
   "source": [
    "#Generate the list of tuple containing a number and its square\n",
    "tuple=[(num,num**2) for num in range(1,6)]\n",
    "print(tuple)"
   ]
  },
  {
   "cell_type": "code",
   "execution_count": 16,
   "id": "83c8915b-e64c-4aaa-8e14-28704ad6b1af",
   "metadata": {},
   "outputs": [
    {
     "name": "stdout",
     "output_type": "stream",
     "text": [
      "['a', 'b', 'c', 'd', 'e', 'f', 'g', 'h', 'i', 'j', 'k', 'l', 'm', 'n', 'o', 'p', 'q', 'r', 's', 't', 'u', 'v', 'w', 'x', 'y', 'z']\n"
     ]
    }
   ],
   "source": [
    "#Create a list of lowercase letters\n",
    "lower_case=[chr(x)for x in range(ord('a'),ord('z')+1)]\n",
    "print(lower_case)"
   ]
  },
  {
   "cell_type": "code",
   "execution_count": 56,
   "id": "83b409c5-f708-41ed-b3de-571fe16e31d4",
   "metadata": {},
   "outputs": [
    {
     "name": "stdout",
     "output_type": "stream",
     "text": [
      "['A', 'B', 'C', 'D', 'E', 'F', 'G', 'H', 'I', 'J', 'K', 'L', 'M', 'N', 'O', 'P', 'Q', 'R', 'S', 'T', 'U', 'V', 'W', 'X', 'Y', 'Z']\n"
     ]
    }
   ],
   "source": [
    "#Create a list of Uppercase letters\n",
    "upper_case=[chr(x)for x in range(ord('A'),ord('Z')+1)]\n",
    "print(upper_case)"
   ]
  },
  {
   "cell_type": "code",
   "execution_count": 57,
   "id": "264da045-7d1a-4c86-9b13-1a82c44c95c4",
   "metadata": {},
   "outputs": [
    {
     "name": "stdout",
     "output_type": "stream",
     "text": [
      "[1, 4, 27, 16, 125, 36, 343, 64, 729, 100]\n"
     ]
    }
   ],
   "source": [
    "#Create a list of even numbers squared and odd numbers cubed from 1 to 10\n",
    "list=[i**2 if i%2==0 else i**3 for i in range(1,11) ]\n",
    "print(list)"
   ]
  },
  {
   "cell_type": "code",
   "execution_count": 58,
   "id": "235770ab-67c2-470a-bcb0-5be53973562f",
   "metadata": {},
   "outputs": [
    {
     "name": "stdout",
     "output_type": "stream",
     "text": [
      "[15, 30, 45, 60, 75, 90]\n"
     ]
    }
   ],
   "source": [
    "#create a list of common multiple of 3 and 5\n",
    "multiple=[i for i in range(1,100) if i%3==0 and i%5==0]\n",
    "print(multiple)"
   ]
  },
  {
   "cell_type": "code",
   "execution_count": 59,
   "id": "e34f1377-efbf-46b2-99e6-a25dba35d107",
   "metadata": {},
   "outputs": [
    {
     "name": "stdout",
     "output_type": "stream",
     "text": [
      "['elppa', 'ananab', 'yrrehc']\n"
     ]
    }
   ],
   "source": [
    "#create the list of reversed string from another list\n",
    "list=['apple','banana','cherry']\n",
    "reverse=[i[::-1] for i in list]\n",
    "print(reverse)"
   ]
  },
  {
   "cell_type": "code",
   "execution_count": 60,
   "id": "7d4a36c3-40df-4ca6-82e0-ede9dec196d2",
   "metadata": {},
   "outputs": [
    {
     "name": "stdout",
     "output_type": "stream",
     "text": [
      "[-125, 16, -27, 4, -1, 0, 1, 4, 27, 16]\n"
     ]
    }
   ],
   "source": [
    "#Generate the list square of even numbers and cubes of odd numbers from -5 to 5\n",
    "list=[i**2 if i%2==0 else i**3 for i in range(-5,5)]\n",
    "print(list)"
   ]
  },
  {
   "cell_type": "code",
   "execution_count": 61,
   "id": "79e64879-582a-4a34-837c-7d461ff5e5ed",
   "metadata": {},
   "outputs": [
    {
     "name": "stdout",
     "output_type": "stream",
     "text": [
      "[('sejal', 5), ('jayesh', 6), ('alex', 4)]\n"
     ]
    }
   ],
   "source": [
    "#generate the list of string with the lengths from another list\n",
    "list=['sejal','jayesh','alex']\n",
    "length=[(word,len(word)) for word in list]\n",
    "print(length)"
   ]
  },
  {
   "cell_type": "code",
   "execution_count": 62,
   "id": "8590393b-fbde-4a5c-84b9-68957c4ed156",
   "metadata": {},
   "outputs": [
    {
     "name": "stdout",
     "output_type": "stream",
     "text": [
      "['s', 'j', 'a']\n"
     ]
    }
   ],
   "source": [
    "#create the list of first character from a list of words\n",
    "list=['sejal','jayesh','alex']\n",
    "char=[word[0] for word in list]\n",
    "print(char)"
   ]
  },
  {
   "cell_type": "code",
   "execution_count": 65,
   "id": "9bc280db-7fa7-424c-a6d1-28d417cb79b2",
   "metadata": {},
   "outputs": [
    {
     "name": "stdout",
     "output_type": "stream",
     "text": [
      "['THIS', 'IS', 'A', 'SAMPLE', 'SENTENCE']\n"
     ]
    }
   ],
   "source": [
    "#Creating the list of a uppercase words from sentence\n",
    "sentence=\"This is a sample sentence\"\n",
    "uppercase=[word.upper() for word in sentence.split()]\n",
    "print(uppercase)"
   ]
  },
  {
   "cell_type": "code",
   "execution_count": 69,
   "id": "6f790de2-4cbc-431d-90ee-7b0e92c6908c",
   "metadata": {},
   "outputs": [
    {
     "name": "stdout",
     "output_type": "stream",
     "text": [
      "['this', 'is', 'a', 'sample', 'sentence']\n"
     ]
    }
   ],
   "source": [
    "#Creating the list of a lowercase words from sentence\n",
    "sentence=\"This is A Sample Sentence\"\n",
    "lowercase=[word.lower() for word in sentence.split()]\n",
    "print(lowercase)"
   ]
  },
  {
   "cell_type": "code",
   "execution_count": null,
   "id": "5213f6e1-6339-4f6c-bc19-400c7675d051",
   "metadata": {},
   "outputs": [],
   "source": []
  }
 ],
 "metadata": {
  "kernelspec": {
   "display_name": "Python 3 (ipykernel)",
   "language": "python",
   "name": "python3"
  },
  "language_info": {
   "codemirror_mode": {
    "name": "ipython",
    "version": 3
   },
   "file_extension": ".py",
   "mimetype": "text/x-python",
   "name": "python",
   "nbconvert_exporter": "python",
   "pygments_lexer": "ipython3",
   "version": "3.11.7"
  }
 },
 "nbformat": 4,
 "nbformat_minor": 5
}
