{
 "cells": [
  {
   "cell_type": "code",
   "execution_count": 1,
   "id": "b037d038-dcf0-4d6b-aa48-f4c27b0fd433",
   "metadata": {},
   "outputs": [],
   "source": [
    "import numpy as np"
   ]
  },
  {
   "cell_type": "code",
   "execution_count": 6,
   "id": "23e9253a-819b-44a0-8cfa-873405ad94a8",
   "metadata": {},
   "outputs": [],
   "source": [
    "arr1=np.array([])"
   ]
  },
  {
   "cell_type": "code",
   "execution_count": 7,
   "id": "5d66d49e-c760-4620-896e-ef43b68c1225",
   "metadata": {},
   "outputs": [
    {
     "data": {
      "text/plain": [
       "array([], dtype=float64)"
      ]
     },
     "execution_count": 7,
     "metadata": {},
     "output_type": "execute_result"
    }
   ],
   "source": [
    "arr1"
   ]
  },
  {
   "cell_type": "code",
   "execution_count": 8,
   "id": "972dd10f-87a7-44fb-8cf8-0a91cd30c030",
   "metadata": {},
   "outputs": [
    {
     "name": "stdout",
     "output_type": "stream",
     "text": [
      "[1, 2, 3, 4]\n",
      "<class 'list'>\n"
     ]
    }
   ],
   "source": [
    "my_list=[1,2,3,4]\n",
    "print(my_list)\n",
    "print(type(my_list))"
   ]
  },
  {
   "cell_type": "code",
   "execution_count": 15,
   "id": "d75568da-1cdd-4e00-b473-773d8a65e9e5",
   "metadata": {},
   "outputs": [],
   "source": [
    "b=np.array(my_list)"
   ]
  },
  {
   "cell_type": "code",
   "execution_count": 16,
   "id": "9f5e90c6-09e7-4914-a02d-b31eb3a6975a",
   "metadata": {},
   "outputs": [
    {
     "data": {
      "text/plain": [
       "array([1, 2, 3, 4])"
      ]
     },
     "execution_count": 16,
     "metadata": {},
     "output_type": "execute_result"
    }
   ],
   "source": [
    "b"
   ]
  },
  {
   "cell_type": "code",
   "execution_count": 17,
   "id": "8fbf9ac3-2c78-4be3-96ba-5352c8d269fb",
   "metadata": {},
   "outputs": [
    {
     "data": {
      "text/plain": [
       "numpy.ndarray"
      ]
     },
     "execution_count": 17,
     "metadata": {},
     "output_type": "execute_result"
    }
   ],
   "source": [
    "type(b)"
   ]
  },
  {
   "cell_type": "code",
   "execution_count": 19,
   "id": "9e3b9f32-805f-474f-aeb9-9acb7317d922",
   "metadata": {},
   "outputs": [
    {
     "data": {
      "text/plain": [
       "1"
      ]
     },
     "execution_count": 19,
     "metadata": {},
     "output_type": "execute_result"
    }
   ],
   "source": [
    "b.ndim"
   ]
  },
  {
   "cell_type": "code",
   "execution_count": 20,
   "id": "f1dcc384-e9cb-49b7-880e-3fa383eae78c",
   "metadata": {},
   "outputs": [
    {
     "data": {
      "text/plain": [
       "(4,)"
      ]
     },
     "execution_count": 20,
     "metadata": {},
     "output_type": "execute_result"
    }
   ],
   "source": [
    "b.shape"
   ]
  },
  {
   "cell_type": "code",
   "execution_count": 21,
   "id": "c0698619-2913-4fb0-b7e6-89425d557436",
   "metadata": {},
   "outputs": [
    {
     "data": {
      "text/plain": [
       "4"
      ]
     },
     "execution_count": 21,
     "metadata": {},
     "output_type": "execute_result"
    }
   ],
   "source": [
    "b.size"
   ]
  },
  {
   "cell_type": "code",
   "execution_count": 22,
   "id": "c3c6a34c-8487-4a59-a35f-f7c5a5d0ff10",
   "metadata": {},
   "outputs": [],
   "source": [
    "m1=[[1,2,3,4],[5,6,7,8],[9,10,11,12]]"
   ]
  },
  {
   "cell_type": "code",
   "execution_count": 23,
   "id": "f6f20c3e-7fe5-46d7-b67f-66beb4869ff1",
   "metadata": {},
   "outputs": [
    {
     "data": {
      "text/plain": [
       "[[1, 2, 3, 4], [5, 6, 7, 8], [9, 10, 11, 12]]"
      ]
     },
     "execution_count": 23,
     "metadata": {},
     "output_type": "execute_result"
    }
   ],
   "source": [
    "m1"
   ]
  },
  {
   "cell_type": "code",
   "execution_count": 24,
   "id": "192dc812-4219-4eaa-9db1-3aeead32bc01",
   "metadata": {},
   "outputs": [],
   "source": [
    "q = np.array(m1)"
   ]
  },
  {
   "cell_type": "code",
   "execution_count": 25,
   "id": "80bf3652-6905-4b1b-8d48-1f9f801d274b",
   "metadata": {},
   "outputs": [
    {
     "data": {
      "text/plain": [
       "array([[ 1,  2,  3,  4],\n",
       "       [ 5,  6,  7,  8],\n",
       "       [ 9, 10, 11, 12]])"
      ]
     },
     "execution_count": 25,
     "metadata": {},
     "output_type": "execute_result"
    }
   ],
   "source": [
    "q"
   ]
  },
  {
   "cell_type": "code",
   "execution_count": 27,
   "id": "f32c3fdb-1af8-411c-a745-4f145ac2937e",
   "metadata": {},
   "outputs": [
    {
     "data": {
      "text/plain": [
       "2"
      ]
     },
     "execution_count": 27,
     "metadata": {},
     "output_type": "execute_result"
    }
   ],
   "source": [
    "q.ndim"
   ]
  },
  {
   "cell_type": "code",
   "execution_count": 28,
   "id": "8e3cfd80-0cfb-4b3b-8a7e-8550f4555a4a",
   "metadata": {},
   "outputs": [
    {
     "data": {
      "text/plain": [
       "(3, 4)"
      ]
     },
     "execution_count": 28,
     "metadata": {},
     "output_type": "execute_result"
    }
   ],
   "source": [
    "q.shape"
   ]
  },
  {
   "cell_type": "code",
   "execution_count": 29,
   "id": "1b1d08f8-0198-4f9a-8190-e2cea328d04c",
   "metadata": {},
   "outputs": [
    {
     "data": {
      "text/plain": [
       "12"
      ]
     },
     "execution_count": 29,
     "metadata": {},
     "output_type": "execute_result"
    }
   ],
   "source": [
    "q.size"
   ]
  },
  {
   "cell_type": "code",
   "execution_count": 34,
   "id": "561be187-d78e-4a7d-a2d2-b2dcd4cc2bc7",
   "metadata": {},
   "outputs": [
    {
     "name": "stdout",
     "output_type": "stream",
     "text": [
      "Computer does not understand our language: 4\n"
     ]
    }
   ],
   "source": [
    "print(\"Computer does not understand our language:\", b.size)"
   ]
  },
  {
   "cell_type": "code",
   "execution_count": 35,
   "id": "abbe959b-39e2-4c17-aed8-163224d5c13d",
   "metadata": {},
   "outputs": [
    {
     "name": "stdout",
     "output_type": "stream",
     "text": [
      "jayesh is a good coder: (4,)\n"
     ]
    }
   ],
   "source": [
    "print(\"jayesh is a good coder:\",b.shape)"
   ]
  },
  {
   "cell_type": "code",
   "execution_count": 36,
   "id": "05ae244b-94de-458e-a611-152c818f092b",
   "metadata": {},
   "outputs": [
    {
     "name": "stdout",
     "output_type": "stream",
     "text": [
      "jayesh is a good coder: 1\n"
     ]
    }
   ],
   "source": [
    "print(\"jayesh is a good coder:\",b.ndim)"
   ]
  },
  {
   "cell_type": "code",
   "execution_count": 37,
   "id": "d715f339-017b-4086-ae1c-bdd6f15188bb",
   "metadata": {},
   "outputs": [
    {
     "name": "stdout",
     "output_type": "stream",
     "text": [
      "jayesh is a good coder: int32\n"
     ]
    }
   ],
   "source": [
    "print(\"jayesh is a good coder:\",b.dtype)"
   ]
  },
  {
   "cell_type": "code",
   "execution_count": 38,
   "id": "c9076d73-a16d-4952-b9b3-f1710c6aa59e",
   "metadata": {},
   "outputs": [],
   "source": [
    "arr2 = np.array([[[1,2,3],[4,5,6]],[[7,8,9],[10,11,12]]])"
   ]
  },
  {
   "cell_type": "code",
   "execution_count": 39,
   "id": "758cff62-aa2f-4c4e-8aaa-657214795728",
   "metadata": {},
   "outputs": [
    {
     "data": {
      "text/plain": [
       "array([[[ 1,  2,  3],\n",
       "        [ 4,  5,  6]],\n",
       "\n",
       "       [[ 7,  8,  9],\n",
       "        [10, 11, 12]]])"
      ]
     },
     "execution_count": 39,
     "metadata": {},
     "output_type": "execute_result"
    }
   ],
   "source": [
    "arr2"
   ]
  },
  {
   "cell_type": "code",
   "execution_count": 41,
   "id": "4cb9bf4e-f75e-403a-ad1c-d30cfd3904d7",
   "metadata": {},
   "outputs": [],
   "source": [
    "r = np.array(arr2)"
   ]
  },
  {
   "cell_type": "code",
   "execution_count": 42,
   "id": "0f00379f-c24f-4609-bc90-d5b69c488718",
   "metadata": {},
   "outputs": [
    {
     "data": {
      "text/plain": [
       "array([[[ 1,  2,  3],\n",
       "        [ 4,  5,  6]],\n",
       "\n",
       "       [[ 7,  8,  9],\n",
       "        [10, 11, 12]]])"
      ]
     },
     "execution_count": 42,
     "metadata": {},
     "output_type": "execute_result"
    }
   ],
   "source": [
    "r"
   ]
  },
  {
   "cell_type": "code",
   "execution_count": 43,
   "id": "1d6ce339-46d3-4a6d-ad26-677109bb5469",
   "metadata": {},
   "outputs": [
    {
     "data": {
      "text/plain": [
       "(2, 2, 3)"
      ]
     },
     "execution_count": 43,
     "metadata": {},
     "output_type": "execute_result"
    }
   ],
   "source": [
    "r.shape"
   ]
  },
  {
   "cell_type": "code",
   "execution_count": 47,
   "id": "9dd53445-06c2-415f-971f-c37bec30d6cf",
   "metadata": {},
   "outputs": [
    {
     "data": {
      "text/plain": [
       "array([[[ 1,  2,  3,  4],\n",
       "        [ 5,  6,  7,  8],\n",
       "        [ 9, 10, 11, 12]]])"
      ]
     },
     "execution_count": 47,
     "metadata": {},
     "output_type": "execute_result"
    }
   ],
   "source": [
    "r.reshape(1,3,4)"
   ]
  },
  {
   "cell_type": "code",
   "execution_count": 51,
   "id": "332c5db9-f17a-4a07-9741-5e812b21d0ce",
   "metadata": {},
   "outputs": [
    {
     "data": {
      "text/plain": [
       "array([ 0,  1,  2,  3,  4,  5,  6,  7,  8,  9, 10, 11, 12, 13, 14])"
      ]
     },
     "execution_count": 51,
     "metadata": {},
     "output_type": "execute_result"
    }
   ],
   "source": [
    "np.arange(15)"
   ]
  },
  {
   "cell_type": "code",
   "execution_count": 53,
   "id": "1f14aa1d-9b39-4101-a2fc-8087136af3ee",
   "metadata": {},
   "outputs": [
    {
     "data": {
      "text/plain": [
       "array([100,  96,  92,  88,  84,  80,  76,  72,  68,  64,  60,  56,  52,\n",
       "        48,  44,  40,  36,  32,  28,  24,  20,  16,  12,   8,   4])"
      ]
     },
     "execution_count": 53,
     "metadata": {},
     "output_type": "execute_result"
    }
   ],
   "source": [
    "np.arange(100,1,-4)"
   ]
  },
  {
   "cell_type": "code",
   "execution_count": 54,
   "id": "c2141f4e-bc44-4590-936d-6c3bf0b69b11",
   "metadata": {},
   "outputs": [
    {
     "data": {
      "text/plain": [
       "array([0., 0., 0., 0.])"
      ]
     },
     "execution_count": 54,
     "metadata": {},
     "output_type": "execute_result"
    }
   ],
   "source": [
    "np.zeros(4)"
   ]
  },
  {
   "cell_type": "code",
   "execution_count": 58,
   "id": "5654f343-bce3-40d7-bd49-a62d42613bcd",
   "metadata": {},
   "outputs": [
    {
     "data": {
      "text/plain": [
       "array([[0., 0., 0.],\n",
       "       [0., 0., 0.],\n",
       "       [0., 0., 0.]])"
      ]
     },
     "execution_count": 58,
     "metadata": {},
     "output_type": "execute_result"
    }
   ],
   "source": [
    "np.zeros((3,3))"
   ]
  },
  {
   "cell_type": "code",
   "execution_count": 59,
   "id": "77ef809d-cc96-4f6d-8b38-54ff1edb82d4",
   "metadata": {},
   "outputs": [
    {
     "data": {
      "text/plain": [
       "array([[1., 1., 1.]])"
      ]
     },
     "execution_count": 59,
     "metadata": {},
     "output_type": "execute_result"
    }
   ],
   "source": [
    "np.ones((1,3))"
   ]
  },
  {
   "cell_type": "code",
   "execution_count": 61,
   "id": "f1eb2ea4-2e63-4f89-ab3d-ee4e7b748638",
   "metadata": {},
   "outputs": [
    {
     "data": {
      "text/plain": [
       "array([[1., 1., 1., 1.],\n",
       "       [1., 1., 1., 1.],\n",
       "       [1., 1., 1., 1.],\n",
       "       [1., 1., 1., 1.]])"
      ]
     },
     "execution_count": 61,
     "metadata": {},
     "output_type": "execute_result"
    }
   ],
   "source": [
    "np.ones((4,4))"
   ]
  },
  {
   "cell_type": "code",
   "execution_count": 64,
   "id": "7dadf336-f259-4897-b112-e9249f5a1464",
   "metadata": {},
   "outputs": [
    {
     "data": {
      "text/plain": [
       "array([  1.        ,   8.07142857,  15.14285714,  22.21428571,\n",
       "        29.28571429,  36.35714286,  43.42857143,  50.5       ,\n",
       "        57.57142857,  64.64285714,  71.71428571,  78.78571429,\n",
       "        85.85714286,  92.92857143, 100.        ])"
      ]
     },
     "execution_count": 64,
     "metadata": {},
     "output_type": "execute_result"
    }
   ],
   "source": [
    "np.linspace(1,100,15)"
   ]
  },
  {
   "cell_type": "code",
   "execution_count": 65,
   "id": "b35b41fb-3779-4295-974a-85d8e06219ad",
   "metadata": {},
   "outputs": [
    {
     "data": {
      "text/plain": [
       "(array([ 1.        ,  1.30612245,  1.6122449 ,  1.91836735,  2.2244898 ,\n",
       "         2.53061224,  2.83673469,  3.14285714,  3.44897959,  3.75510204,\n",
       "         4.06122449,  4.36734694,  4.67346939,  4.97959184,  5.28571429,\n",
       "         5.59183673,  5.89795918,  6.20408163,  6.51020408,  6.81632653,\n",
       "         7.12244898,  7.42857143,  7.73469388,  8.04081633,  8.34693878,\n",
       "         8.65306122,  8.95918367,  9.26530612,  9.57142857,  9.87755102,\n",
       "        10.18367347, 10.48979592, 10.79591837, 11.10204082, 11.40816327,\n",
       "        11.71428571, 12.02040816, 12.32653061, 12.63265306, 12.93877551,\n",
       "        13.24489796, 13.55102041, 13.85714286, 14.16326531, 14.46938776,\n",
       "        14.7755102 , 15.08163265, 15.3877551 , 15.69387755, 16.        ]),\n",
       " 0.30612244897959184)"
      ]
     },
     "execution_count": 65,
     "metadata": {},
     "output_type": "execute_result"
    }
   ],
   "source": [
    "np.linspace(1,16, retstep=True)"
   ]
  },
  {
   "cell_type": "code",
   "execution_count": 66,
   "id": "1592c050-27d0-44d4-94c4-0138ec65661c",
   "metadata": {},
   "outputs": [],
   "source": [
    "sej = np.ones((3,4))"
   ]
  },
  {
   "cell_type": "code",
   "execution_count": 67,
   "id": "436756a1-5d1c-4018-b230-b267f51955cb",
   "metadata": {},
   "outputs": [
    {
     "data": {
      "text/plain": [
       "array([[1., 1., 1., 1.],\n",
       "       [1., 1., 1., 1.],\n",
       "       [1., 1., 1., 1.]])"
      ]
     },
     "execution_count": 67,
     "metadata": {},
     "output_type": "execute_result"
    }
   ],
   "source": [
    "sej"
   ]
  },
  {
   "cell_type": "code",
   "execution_count": 68,
   "id": "1a1bcdbb-495f-411c-a90b-3f1b13b83fcc",
   "metadata": {},
   "outputs": [
    {
     "data": {
      "text/plain": [
       "array([[3., 3., 3., 3.],\n",
       "       [3., 3., 3., 3.],\n",
       "       [3., 3., 3., 3.]])"
      ]
     },
     "execution_count": 68,
     "metadata": {},
     "output_type": "execute_result"
    }
   ],
   "source": [
    "sej*3"
   ]
  },
  {
   "cell_type": "code",
   "execution_count": 73,
   "id": "d4479fe8-1e7d-4ca3-81c1-8e2ea3df2669",
   "metadata": {},
   "outputs": [],
   "source": [
    "w = np.array(sej*6-0.2, dtype='int')"
   ]
  },
  {
   "cell_type": "code",
   "execution_count": 74,
   "id": "89fe5970-c1e9-458f-bed1-740df7df43b3",
   "metadata": {},
   "outputs": [
    {
     "data": {
      "text/plain": [
       "array([[5, 5, 5, 5],\n",
       "       [5, 5, 5, 5],\n",
       "       [5, 5, 5, 5]])"
      ]
     },
     "execution_count": 74,
     "metadata": {},
     "output_type": "execute_result"
    }
   ],
   "source": [
    "w"
   ]
  },
  {
   "cell_type": "code",
   "execution_count": 75,
   "id": "c505db84-30e2-43dc-a3b2-a60eefa25a82",
   "metadata": {},
   "outputs": [],
   "source": [
    "w = np.array(sej*6-0.2)"
   ]
  },
  {
   "cell_type": "code",
   "execution_count": 76,
   "id": "3a95b0f2-a9a1-4003-8254-b3db9a942494",
   "metadata": {},
   "outputs": [
    {
     "data": {
      "text/plain": [
       "array([[5.8, 5.8, 5.8, 5.8],\n",
       "       [5.8, 5.8, 5.8, 5.8],\n",
       "       [5.8, 5.8, 5.8, 5.8]])"
      ]
     },
     "execution_count": 76,
     "metadata": {},
     "output_type": "execute_result"
    }
   ],
   "source": [
    "w"
   ]
  },
  {
   "cell_type": "code",
   "execution_count": 78,
   "id": "c43ef719-467f-40b2-b65a-4457b05cbd6e",
   "metadata": {},
   "outputs": [
    {
     "name": "stderr",
     "output_type": "stream",
     "text": [
      "C:\\Users\\Dell\\AppData\\Local\\Temp\\ipykernel_14232\\209768123.py:2: RuntimeWarning: divide by zero encountered in divide\n",
      "  2/arr2\n"
     ]
    },
    {
     "data": {
      "text/plain": [
       "array([       inf, 2.        , 1.        , 0.66666667, 0.5       ,\n",
       "       0.4       , 0.33333333, 0.28571429, 0.25      , 0.22222222,\n",
       "       0.2       , 0.18181818, 0.16666667, 0.15384615, 0.14285714,\n",
       "       0.13333333, 0.125     , 0.11764706, 0.11111111, 0.10526316])"
      ]
     },
     "execution_count": 78,
     "metadata": {},
     "output_type": "execute_result"
    }
   ],
   "source": [
    "arr2=np.arange(20)\n",
    "2/arr2"
   ]
  },
  {
   "cell_type": "code",
   "execution_count": 79,
   "id": "18c9baeb-7a00-4505-82b5-441460454eb5",
   "metadata": {},
   "outputs": [
    {
     "data": {
      "text/plain": [
       "array([ 0,  2,  4,  6,  8, 10, 12, 14, 16, 18, 20, 22, 24, 26, 28, 30, 32,\n",
       "       34, 36, 38])"
      ]
     },
     "execution_count": 79,
     "metadata": {},
     "output_type": "execute_result"
    }
   ],
   "source": [
    "arr2 + arr2\n"
   ]
  },
  {
   "cell_type": "code",
   "execution_count": 80,
   "id": "091e98e2-8d09-45a6-89fc-380c5e57edeb",
   "metadata": {},
   "outputs": [],
   "source": [
    "arr3 = arr2"
   ]
  },
  {
   "cell_type": "code",
   "execution_count": 81,
   "id": "0d11c2ad-70cc-45d7-9ee2-9120b1d4bd6e",
   "metadata": {},
   "outputs": [
    {
     "data": {
      "text/plain": [
       "array([ 0,  1,  2,  3,  4,  5,  6,  7,  8,  9, 10, 11, 12, 13, 14, 15, 16,\n",
       "       17, 18, 19])"
      ]
     },
     "execution_count": 81,
     "metadata": {},
     "output_type": "execute_result"
    }
   ],
   "source": [
    "arr3\n"
   ]
  },
  {
   "cell_type": "code",
   "execution_count": 82,
   "id": "a2211988-c496-4018-803a-08e90a46b23b",
   "metadata": {},
   "outputs": [],
   "source": [
    "arr3[:10]=10"
   ]
  },
  {
   "cell_type": "code",
   "execution_count": 83,
   "id": "c7451e05-4d3c-45dc-91f4-0e11bf41b0a6",
   "metadata": {},
   "outputs": [
    {
     "data": {
      "text/plain": [
       "array([10, 10, 10, 10, 10, 10, 10, 10, 10, 10, 10, 11, 12, 13, 14, 15, 16,\n",
       "       17, 18, 19])"
      ]
     },
     "execution_count": 83,
     "metadata": {},
     "output_type": "execute_result"
    }
   ],
   "source": [
    "arr3"
   ]
  },
  {
   "cell_type": "code",
   "execution_count": 84,
   "id": "bb293e48-7bee-49a0-9d13-75be8459d6f2",
   "metadata": {},
   "outputs": [],
   "source": [
    "arr3[10:]=50"
   ]
  },
  {
   "cell_type": "code",
   "execution_count": 85,
   "id": "94bd1fa0-38d8-48af-ae6d-aab1894aba3a",
   "metadata": {},
   "outputs": [
    {
     "data": {
      "text/plain": [
       "array([10, 10, 10, 10, 10, 10, 10, 10, 10, 10, 50, 50, 50, 50, 50, 50, 50,\n",
       "       50, 50, 50])"
      ]
     },
     "execution_count": 85,
     "metadata": {},
     "output_type": "execute_result"
    }
   ],
   "source": [
    "arr3"
   ]
  },
  {
   "cell_type": "code",
   "execution_count": 86,
   "id": "2e1b4357-816a-4312-b71e-20e6ef1ca68c",
   "metadata": {},
   "outputs": [],
   "source": [
    "arr3[10:5]=20"
   ]
  },
  {
   "cell_type": "code",
   "execution_count": 87,
   "id": "ecd2f9c1-4c4f-4358-b266-a8751b7a1b9a",
   "metadata": {},
   "outputs": [
    {
     "data": {
      "text/plain": [
       "array([10, 10, 10, 10, 10, 10, 10, 10, 10, 10, 50, 50, 50, 50, 50, 50, 50,\n",
       "       50, 50, 50])"
      ]
     },
     "execution_count": 87,
     "metadata": {},
     "output_type": "execute_result"
    }
   ],
   "source": [
    "arr3\n"
   ]
  },
  {
   "cell_type": "code",
   "execution_count": null,
   "id": "bcce1049-f149-4171-a1e1-94e37786aa99",
   "metadata": {},
   "outputs": [],
   "source": []
  }
 ],
 "metadata": {
  "kernelspec": {
   "display_name": "Python 3 (ipykernel)",
   "language": "python",
   "name": "python3"
  },
  "language_info": {
   "codemirror_mode": {
    "name": "ipython",
    "version": 3
   },
   "file_extension": ".py",
   "mimetype": "text/x-python",
   "name": "python",
   "nbconvert_exporter": "python",
   "pygments_lexer": "ipython3",
   "version": "3.11.7"
  }
 },
 "nbformat": 4,
 "nbformat_minor": 5
}
