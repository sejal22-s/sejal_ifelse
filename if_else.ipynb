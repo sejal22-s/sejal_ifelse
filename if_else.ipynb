{
 "cells": [
  {
   "cell_type": "code",
   "execution_count": 5,
   "id": "52ed14a7-c12f-4a49-8516-f5486e52a6fe",
   "metadata": {},
   "outputs": [
    {
     "name": "stdin",
     "output_type": "stream",
     "text": [
      "enter the number -40\n"
     ]
    },
    {
     "name": "stdout",
     "output_type": "stream",
     "text": [
      "the number is negative: -40\n"
     ]
    }
   ],
   "source": [
    "#Check if the number is positive or negative\n",
    "#for negative number\n",
    "a=int(input(\"enter the number\"))\n",
    "if(a>0):\n",
    "    print(\"the number is positive:\",a)\n",
    "else:\n",
    "    print(\"the number is negative:\",a)"
   ]
  },
  {
   "cell_type": "code",
   "execution_count": 4,
   "id": "ffa6a0cb-37b4-460c-adc0-6c0cbf058e9c",
   "metadata": {},
   "outputs": [
    {
     "name": "stdin",
     "output_type": "stream",
     "text": [
      "enter the number 30\n"
     ]
    },
    {
     "name": "stdout",
     "output_type": "stream",
     "text": [
      "the number is positive: 30\n"
     ]
    }
   ],
   "source": [
    "#Check if the number is positive or negative\n",
    "#for positive number\n",
    "a=int(input(\"enter the number\"))\n",
    "if(a>0):\n",
    "    print(\"the number is positive:\",a)\n",
    "else:\n",
    "    print(\"the number is negative:\",a)"
   ]
  },
  {
   "cell_type": "code",
   "execution_count": 6,
   "id": "c74350de-fa48-456f-8c0f-07b6116e20ca",
   "metadata": {},
   "outputs": [
    {
     "name": "stdin",
     "output_type": "stream",
     "text": [
      "enter the marks 20\n"
     ]
    },
    {
     "name": "stdout",
     "output_type": "stream",
     "text": [
      "according to the marks the grade is D\n"
     ]
    }
   ],
   "source": [
    "#WAP to accept % from the user and display the grade according to the criteria\n",
    "a=int(input(\"enter the marks\"))\n",
    "if(a>90):\n",
    "    print(\"according to the marks the grade is A\")\n",
    "if(a>80 and a<=90):\n",
    "    print(\"according to the marks the grade is B\")\n",
    "if(a>=60 and a<=80):\n",
    "    print(\"according to the marks the grade is C\")\n",
    "if(a<60):\n",
    "    print(\"according to the marks the grade is D\")\n",
    "    "
   ]
  },
  {
   "cell_type": "code",
   "execution_count": 15,
   "id": "3681021c-202c-4ba4-8168-15cb5e1aded8",
   "metadata": {},
   "outputs": [
    {
     "name": "stdin",
     "output_type": "stream",
     "text": [
      "Enter the cost price 80000\n"
     ]
    },
    {
     "name": "stdout",
     "output_type": "stream",
     "text": [
      "tax amount is 10%\n",
      "8000.0\n",
      "total amount: 88000.0\n"
     ]
    }
   ],
   "source": [
    "#WAP a program to accept the cost price of a bike and display the road tax to be paid according to the criteria\n",
    "price=int(input(\"Enter the cost price\"))\n",
    "if(price>100000):\n",
    "    print(\"tax amount is 15%\")\n",
    "    tax=15/100*price\n",
    "    print(tax)\n",
    "    print(\"total amount:\",tax+price)\n",
    "elif(price>50000 and price<=100000):\n",
    "    print(\"tax amount is 10%\")\n",
    "    tax=10/100*price\n",
    "    print(tax)\n",
    "    print(\"total amount:\",tax+price)\n",
    "else:\n",
    "    print(\"tax amount is 5%\")\n",
    "    tax=5/100*price\n",
    "    print(tax)\n",
    "    print(\"total amount:\",tax+price)\n",
    "    \n",
    "\n",
    "    "
   ]
  },
  {
   "cell_type": "code",
   "execution_count": 17,
   "id": "02ebc314-d10b-4ccc-ab7f-19f16913999e",
   "metadata": {},
   "outputs": [
    {
     "name": "stdin",
     "output_type": "stream",
     "text": [
      "enter the year 2024\n"
     ]
    },
    {
     "name": "stdout",
     "output_type": "stream",
     "text": [
      "the year is leap year\n"
     ]
    }
   ],
   "source": [
    "#WAP to check whether an years is leap year or not\n",
    "yr=int(input(\"enter the year\"))\n",
    "if(yr%4==0):\n",
    "    print(\"the year is leap year\")\n",
    "else:\n",
    "    print(\"the year is not leap year\",yr)"
   ]
  },
  {
   "cell_type": "code",
   "execution_count": 34,
   "id": "67ec8e9a-9302-48da-8997-84eba12d9a58",
   "metadata": {},
   "outputs": [
    {
     "name": "stdin",
     "output_type": "stream",
     "text": [
      "enter the number 7\n"
     ]
    },
    {
     "name": "stdout",
     "output_type": "stream",
     "text": [
      "Saturday\n"
     ]
    }
   ],
   "source": [
    "#WAP to accept a number from 1 to 7 and display the name of the day\n",
    "b=int(input(\"enter the number\"))\n",
    "if(b==1):\n",
    "    print(\"Sunday\")\n",
    "elif(b==2):\n",
    "    print(\"Monday\")\n",
    "elif(b==3):\n",
    "    print(\"tuesday\")\n",
    "elif(b==4):\n",
    "    print(\"Wednesday\")\n",
    "elif(b==5):\n",
    "    print(\"thursday\")\n",
    "elif(b==6):\n",
    "    print(\"Firday\")\n",
    "elif(b==7):\n",
    "    print(\"Saturday\")\n",
    "else:\n",
    "    print(\"pls enter the number between 1 to 7\")\n"
   ]
  },
  {
   "cell_type": "code",
   "execution_count": 35,
   "id": "1424297f-7840-4d16-8462-2649c3f91773",
   "metadata": {},
   "outputs": [
    {
     "name": "stdin",
     "output_type": "stream",
     "text": [
      "enter the number 8\n"
     ]
    },
    {
     "name": "stdout",
     "output_type": "stream",
     "text": [
      "august\n"
     ]
    }
   ],
   "source": [
    "#WAP to accept a number from 1 to 12 and display the name of the month\n",
    "b=int(input(\"enter the number\"))\n",
    "if(b==1):\n",
    "    print(\"january\")\n",
    "elif(b==2):\n",
    "    print(\"february\")\n",
    "elif(b==3):\n",
    "    print(\"march\")\n",
    "elif(b==4):\n",
    "    print(\"april\")\n",
    "elif(b==5):\n",
    "    print(\"may\")\n",
    "elif(b==6):\n",
    "    print(\"june\")\n",
    "elif(b==7):\n",
    "    print(\"july\")\n",
    "elif(b==8):\n",
    "    print(\"august\")\n",
    "elif(b==9):\n",
    "    print(\"september\")\n",
    "elif(b==10):\n",
    "    print(\"october\")\n",
    "elif(b==11):\n",
    "    print(\"november\")\n",
    "elif(b==12):\n",
    "    print(\"december\")\n",
    "else:\n",
    "    print(\"pls enter the number between 1 to 7\")\n"
   ]
  },
  {
   "cell_type": "code",
   "execution_count": 42,
   "id": "889e635f-6c50-44fa-987f-06dc1e45e6c0",
   "metadata": {},
   "outputs": [
    {
     "name": "stdin",
     "output_type": "stream",
     "text": [
      "enter the number 1200\n"
     ]
    },
    {
     "name": "stdout",
     "output_type": "stream",
     "text": [
      "1200 not a three digit number\n"
     ]
    }
   ],
   "source": [
    "#WAP to check wheather a number enterd is three digit number or not\n",
    "a=int(input(\"enter the number\"))\n",
    "if(a>99 and a<=999):\n",
    "    print(a,\"is a three digit number\")\n",
    "else:\n",
    "    print(a,\"not a three digit number\")"
   ]
  },
  {
   "cell_type": "code",
   "execution_count": 39,
   "id": "0aa616f2-1512-4e8d-8d3a-6f534ce41dde",
   "metadata": {},
   "outputs": [
    {
     "name": "stdin",
     "output_type": "stream",
     "text": [
      "enter the age 21\n"
     ]
    },
    {
     "name": "stdout",
     "output_type": "stream",
     "text": [
      "21 this age is eligible for voting\n"
     ]
    }
   ],
   "source": [
    "#WAP to check whether a person is eligible for voting or not\n",
    "a=int(input(\"enter the age\"))\n",
    "if(a>=18):\n",
    "    print(a,\"this age is eligible for voting\")\n",
    "else:\n",
    "    print(a,\"not eligible for voting\")"
   ]
  },
  {
   "cell_type": "code",
   "execution_count": 45,
   "id": "44e47db4-5977-4472-b30d-84cbbb9fb36e",
   "metadata": {},
   "outputs": [
    {
     "name": "stdin",
     "output_type": "stream",
     "text": [
      "enter the number 2\n",
      "enter the number 3\n"
     ]
    },
    {
     "name": "stdout",
     "output_type": "stream",
     "text": [
      "2 is the smallest number\n"
     ]
    }
   ],
   "source": [
    "#WAP to check a number is small from the two user input \n",
    "a=int(input(\"enter the number\"))\n",
    "b=int(input(\"enter the number\"))\n",
    "if(a<b):\n",
    "    print(a,\"is the smallest number\")\n",
    "else:\n",
    "    print(a,\"is not small number\")"
   ]
  },
  {
   "cell_type": "code",
   "execution_count": 47,
   "id": "5243e33f-82dd-4de8-bde2-e50eab663e27",
   "metadata": {},
   "outputs": [
    {
     "name": "stdin",
     "output_type": "stream",
     "text": [
      "enter the number 5\n",
      "enter the number 3\n"
     ]
    },
    {
     "name": "stdout",
     "output_type": "stream",
     "text": [
      "5 is the largest number\n"
     ]
    }
   ],
   "source": [
    "#WAP to check a number is largest from the two user input \n",
    "a=int(input(\"enter the number\"))\n",
    "b=int(input(\"enter the number\"))\n",
    "if(a>b):\n",
    "    print(a,\"is the largest number\")\n",
    "else:\n",
    "    print(a,\"is not small number\")"
   ]
  },
  {
   "cell_type": "code",
   "execution_count": 58,
   "id": "ab32434e-dc8e-46d7-bed8-6d4578867dd1",
   "metadata": {},
   "outputs": [
    {
     "name": "stdin",
     "output_type": "stream",
     "text": [
      "enter the number 80\n",
      "enter the number 90\n",
      "enter the number 9\n"
     ]
    },
    {
     "name": "stdout",
     "output_type": "stream",
     "text": [
      "90 is the largest number \n"
     ]
    }
   ],
   "source": [
    "#WAP to check a number is largest from the two user input \n",
    "a=int(input(\"enter the number\"))\n",
    "b=int(input(\"enter the number\"))\n",
    "c=int(input(\"enter the number\"))\n",
    "if(a>b and c):\n",
    "    print(a,\"is the largest number\")\n",
    "if(b>a and c):\n",
    "    print(b,\"is the largest number \")\n",
    "if(c>a and b):\n",
    "    print(c,\"is the largest number \")"
   ]
  },
  {
   "cell_type": "code",
   "execution_count": null,
   "id": "92898d1e-79ca-44c8-a301-e2c6a0968983",
   "metadata": {},
   "outputs": [],
   "source": []
  }
 ],
 "metadata": {
  "kernelspec": {
   "display_name": "Python 3 (ipykernel)",
   "language": "python",
   "name": "python3"
  },
  "language_info": {
   "codemirror_mode": {
    "name": "ipython",
    "version": 3
   },
   "file_extension": ".py",
   "mimetype": "text/x-python",
   "name": "python",
   "nbconvert_exporter": "python",
   "pygments_lexer": "ipython3",
   "version": "3.11.7"
  }
 },
 "nbformat": 4,
 "nbformat_minor": 5
}
